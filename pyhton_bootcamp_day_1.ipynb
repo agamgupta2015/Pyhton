{
  "nbformat": 4,
  "nbformat_minor": 0,
  "metadata": {
    "colab": {
      "name": "pyhton  bootcamp day 1.ipynb",
      "provenance": [],
      "include_colab_link": true
    },
    "kernelspec": {
      "name": "python3",
      "display_name": "Python 3"
    }
  },
  "cells": [
    {
      "cell_type": "markdown",
      "metadata": {
        "id": "view-in-github",
        "colab_type": "text"
      },
      "source": [
        "<a href=\"https://colab.research.google.com/github/agamgupta2015/Pyhton/blob/main/pyhton_bootcamp_day_1.ipynb\" target=\"_parent\"><img src=\"https://colab.research.google.com/assets/colab-badge.svg\" alt=\"Open In Colab\"/></a>"
      ]
    },
    {
      "cell_type": "code",
      "metadata": {
        "colab": {
          "base_uri": "https://localhost:8080/"
        },
        "id": "iYl033LWX58_",
        "outputId": "210821fc-54b1-4f29-a627-000c1ed172e7"
      },
      "source": [
        "#taking input form the user\r\n",
        "(int)(input())"
      ],
      "execution_count": null,
      "outputs": [
        {
          "output_type": "stream",
          "text": [
            "10\n"
          ],
          "name": "stdout"
        },
        {
          "output_type": "execute_result",
          "data": {
            "text/plain": [
              "10"
            ]
          },
          "metadata": {
            "tags": []
          },
          "execution_count": 3
        }
      ]
    },
    {
      "cell_type": "code",
      "metadata": {
        "id": "mUG0kc9DZmnN"
      },
      "source": [
        "#data types:- int float double string list dictionary\r\n",
        "#int :- 1 2 3 4 5\r\n",
        "# float:- 1.1 3.3456 \r\n",
        "#string :- abcd xyc 1234xyz\r\n",
        "#list : [1,2 3]\r\n",
        "#dictionary: {1:2 , 3:4}"
      ],
      "execution_count": null,
      "outputs": []
    },
    {
      "cell_type": "code",
      "metadata": {
        "colab": {
          "base_uri": "https://localhost:8080/"
        },
        "id": "GEW8QtPiaY0v",
        "outputId": "c4a4a61b-4b9f-4699-814a-f28acc0a2189"
      },
      "source": [
        "a=(int)(input())  # a is the available\r\n",
        "print(a)\r\n",
        "print(type(a))"
      ],
      "execution_count": null,
      "outputs": [
        {
          "output_type": "stream",
          "text": [
            "12\n",
            "12\n",
            "<class 'int'>\n"
          ],
          "name": "stdout"
        }
      ]
    },
    {
      "cell_type": "code",
      "metadata": {
        "colab": {
          "base_uri": "https://localhost:8080/"
        },
        "id": "PjY2AWKRabLq",
        "outputId": "cc5558d2-9a14-46c7-85f4-a6c3c79c03ec"
      },
      "source": [
        "print(1,2,3)\r\n",
        "print(1,2,3,sep=\",\",end=\"!!\")\r\n",
        "print(1)\r\n",
        "\r\n",
        "a=1\r\n",
        "b=2\r\n",
        "c=3\r\n",
        "print(a,b,c,end=\"\\n\",sep=\":\")"
      ],
      "execution_count": null,
      "outputs": [
        {
          "output_type": "stream",
          "text": [
            "1 2 3\n",
            "1,2,3!!1\n",
            "1:2:3\n"
          ],
          "name": "stdout"
        }
      ]
    },
    {
      "cell_type": "code",
      "metadata": {
        "id": "BLZ6C24lbRGX"
      },
      "source": [
        "#variable \r\n",
        "\r\n",
        "#variable_name= assign_value\r\n",
        "a=10  #integer variable\r\n",
        "b=10.6 # float variable\r\n",
        "c=\"hello world\" #string variable\r\n",
        "d=1,2,3,4   #list datatype"
      ],
      "execution_count": null,
      "outputs": []
    },
    {
      "cell_type": "code",
      "metadata": {
        "colab": {
          "base_uri": "https://localhost:8080/"
        },
        "id": "pOVtpaOwcnfA",
        "outputId": "58b5cc06-168d-4cb8-9181-99f41a003fe4"
      },
      "source": [
        "print(a)\r\n",
        "print(b)\r\n",
        "print(c)\r\n",
        "print(d)"
      ],
      "execution_count": null,
      "outputs": [
        {
          "output_type": "stream",
          "text": [
            "10\n",
            "10.6\n",
            "hello world\n",
            "(1, 2, 3, 4)\n"
          ],
          "name": "stdout"
        }
      ]
    },
    {
      "cell_type": "code",
      "metadata": {
        "id": "4VgibKAtcoBs"
      },
      "source": [
        "multiple_word=10\r\n",
        "var_1=10"
      ],
      "execution_count": null,
      "outputs": []
    },
    {
      "cell_type": "code",
      "metadata": {
        "colab": {
          "base_uri": "https://localhost:8080/"
        },
        "id": "mcnTlnxXc36d",
        "outputId": "68c9b5a6-b64b-40d2-cad5-c10d4ea277ee"
      },
      "source": [
        "a=10\r\n",
        "a=a+3\r\n",
        "print(a)"
      ],
      "execution_count": null,
      "outputs": [
        {
          "output_type": "stream",
          "text": [
            "13\n"
          ],
          "name": "stdout"
        }
      ]
    },
    {
      "cell_type": "code",
      "metadata": {
        "id": "Az47_SigdyF3"
      },
      "source": [
        "a1,a2,a3=range(3)    [0,1,2]"
      ],
      "execution_count": null,
      "outputs": []
    },
    {
      "cell_type": "code",
      "metadata": {
        "colab": {
          "base_uri": "https://localhost:8080/"
        },
        "id": "xHNDYEO6d2yV",
        "outputId": "5c4e007b-257f-49d9-8238-da27bbb49964"
      },
      "source": [
        "print(a1,a2,a3)\r\n",
        "print(a1)\r\n",
        "print(a2)"
      ],
      "execution_count": null,
      "outputs": [
        {
          "output_type": "stream",
          "text": [
            "0 1 2\n",
            "0\n",
            "1\n"
          ],
          "name": "stdout"
        }
      ]
    },
    {
      "cell_type": "code",
      "metadata": {
        "colab": {
          "base_uri": "https://localhost:8080/"
        },
        "id": "xQkR7Z_Wd5rP",
        "outputId": "dfdb44cb-e644-497b-dbd8-17dab1fc704c"
      },
      "source": [
        "for i in range(3):\r\n",
        "  print(i)"
      ],
      "execution_count": null,
      "outputs": [
        {
          "output_type": "stream",
          "text": [
            "0\n",
            "1\n",
            "2\n"
          ],
          "name": "stdout"
        }
      ]
    },
    {
      "cell_type": "code",
      "metadata": {
        "colab": {
          "base_uri": "https://localhost:8080/"
        },
        "id": "zy-Mjoy8d7uC",
        "outputId": "68d6d9d9-9256-4284-f774-c5cec1b5d67a"
      },
      "source": [
        "#strigs are sequences of characters!! anythong can be considered as a string\r\n",
        "a=\"123xyz\"\r\n",
        "b=\"srk\"\r\n",
        "c='abcd'\r\n",
        "d='''pqrst'''\r\n",
        "\r\n",
        "print(a,b,c,d,sep=\"  \")\r\n",
        "print(type(a))\r\n",
        "print(type(b))\r\n",
        "print(type(c))\r\n",
        "print(type(d))\r\n"
      ],
      "execution_count": null,
      "outputs": [
        {
          "output_type": "stream",
          "text": [
            "123xyz  srk  abcd  pqrst\n",
            "<class 'str'>\n",
            "<class 'str'>\n",
            "<class 'str'>\n",
            "<class 'str'>\n"
          ],
          "name": "stdout"
        }
      ]
    },
    {
      "cell_type": "code",
      "metadata": {
        "colab": {
          "base_uri": "https://localhost:8080/"
        },
        "id": "Hb7OTkRceqVd",
        "outputId": "adc61567-845a-4d0a-af66-21732b61576f"
      },
      "source": [
        "a='''a bcd   \r\n",
        "ajieo'''\r\n",
        "\r\n",
        "\r\n",
        "#triple quotes work when the value of the variable is in multiple lines !! for the same line u can use single or dohble quotes\r\n",
        "print(a)"
      ],
      "execution_count": null,
      "outputs": [
        {
          "output_type": "stream",
          "text": [
            "a bcd   \n",
            "ajieo\n"
          ],
          "name": "stdout"
        }
      ]
    },
    {
      "cell_type": "code",
      "metadata": {
        "id": "vjmddWSmfIBx"
      },
      "source": [
        "'''\r\n",
        "  this is a muliplt line \r\n",
        "  comment\r\n",
        "'''\r\n",
        "\r\n",
        "a=10\r\n",
        "b=20      #select everything u want to comment and pressed ctrl+/\r\n",
        "c=10\r\n",
        "\r\n",
        "\r\n",
        "print(a)\r\n",
        "print(b)\r\n",
        "print(c) #hey this a multiple line edit using alt in keyboard\r\n",
        " \r\n",
        " \r\n",
        "\r\n",
        "\r\n"
      ],
      "execution_count": null,
      "outputs": []
    },
    {
      "cell_type": "code",
      "metadata": {
        "colab": {
          "base_uri": "https://localhost:8080/"
        },
        "id": "Ublz8BBOgcQR",
        "outputId": "1a182ed5-9bc2-4318-8442-5579b175f694"
      },
      "source": [
        "\"abcde\".index(\"cd\")\r\n",
        "#01234\r\n",
        "\r\n",
        "# length :- 5\r\n",
        "# indexing start from 0 and does till 4 (n-1)\r\n",
        "\r\n",
        "s=\"abcde\"\r\n",
        "print(s.index(\"d\"))   #index of the position of the substring in the string\r\n",
        "\r\n",
        "\r\n",
        "\r\n",
        "print(\"f\" in \"india\")\r\n",
        "\r\n",
        "if \"a\" in s:\r\n",
        "  print(s.index(\"a\"))\r\n",
        "else:\r\n",
        "  print(\"not present\")\r\n"
      ],
      "execution_count": null,
      "outputs": [
        {
          "output_type": "stream",
          "text": [
            "3\n",
            "False\n",
            "0\n"
          ],
          "name": "stdout"
        }
      ]
    },
    {
      "cell_type": "code",
      "metadata": {
        "colab": {
          "base_uri": "https://localhost:8080/"
        },
        "id": "1_Sg89O1gf0L",
        "outputId": "6c832a1b-dc61-4356-85fe-2e7be31ca21a"
      },
      "source": [
        "[\"1\",\"2\",\"3\"]\r\n",
        "\"1 2 3\"\r\n",
        "\r\n",
        "combined_string=\"/\".join([\"22\",\"02\",\"2021\"])\r\n",
        "print(combined_string)"
      ],
      "execution_count": null,
      "outputs": [
        {
          "output_type": "stream",
          "text": [
            "22/02/2021\n"
          ],
          "name": "stdout"
        }
      ]
    },
    {
      "cell_type": "code",
      "metadata": {
        "colab": {
          "base_uri": "https://localhost:8080/"
        },
        "id": "obtm0YVXiG_d",
        "outputId": "7c827e20-a8b3-4348-ff39-0b95b39d833a"
      },
      "source": [
        "combined_string.split(\"/\")"
      ],
      "execution_count": null,
      "outputs": [
        {
          "output_type": "execute_result",
          "data": {
            "text/plain": [
              "['22', '02', '2021']"
            ]
          },
          "metadata": {
            "tags": []
          },
          "execution_count": 58
        }
      ]
    },
    {
      "cell_type": "code",
      "metadata": {
        "id": "6SKKoGhNiOlr"
      },
      "source": [
        "a=\"hey my name is rahul\"\r\n",
        "a=a.split(\" \")"
      ],
      "execution_count": null,
      "outputs": []
    },
    {
      "cell_type": "code",
      "metadata": {
        "colab": {
          "base_uri": "https://localhost:8080/",
          "height": 35
        },
        "id": "VUdm2bejieuQ",
        "outputId": "1587efe3-3195-44c3-c667-81e33c6ea994"
      },
      "source": [
        "\" \".join(a)"
      ],
      "execution_count": null,
      "outputs": [
        {
          "output_type": "execute_result",
          "data": {
            "application/vnd.google.colaboratory.intrinsic+json": {
              "type": "string"
            },
            "text/plain": [
              "'hey my name is rahul'"
            ]
          },
          "metadata": {
            "tags": []
          },
          "execution_count": 61
        }
      ]
    },
    {
      "cell_type": "code",
      "metadata": {
        "colab": {
          "base_uri": "https://localhost:8080/"
        },
        "id": "Drq_0L_RifMS",
        "outputId": "4c76ca6d-c8f8-42bd-e6e6-ea6b30576580"
      },
      "source": [
        "numbers=[1,2,3,4]\r\n",
        "\r\n",
        "def func(n):\r\n",
        "  return n*2\r\n",
        "\r\n",
        "result=map(func,numbers)\r\n",
        "print(list(result))"
      ],
      "execution_count": null,
      "outputs": [
        {
          "output_type": "stream",
          "text": [
            "[2, 4, 6, 8]\n"
          ],
          "name": "stdout"
        }
      ]
    },
    {
      "cell_type": "code",
      "metadata": {
        "colab": {
          "base_uri": "https://localhost:8080/"
        },
        "id": "-JvjDavki_uf",
        "outputId": "9f178ac0-5988-479e-adfc-85a794573ba7"
      },
      "source": [
        "print(bool(\"\"))\r\n",
        "print(bool(\"truth value\"))"
      ],
      "execution_count": null,
      "outputs": [
        {
          "output_type": "stream",
          "text": [
            "False\n",
            "True\n"
          ],
          "name": "stdout"
        }
      ]
    },
    {
      "cell_type": "code",
      "metadata": {
        "colab": {
          "base_uri": "https://localhost:8080/"
        },
        "id": "Krcj5d-zjy-o",
        "outputId": "200b1244-8bfb-4a27-d209-92d5a8b9fb84"
      },
      "source": [
        "a=\"abcdefg\"  \r\n",
        "print(a[0])\r\n",
        "print(a[2])\r\n",
        "print(a[5])\r\n",
        "print(a[-1])\r\n",
        "print(a[-2])\r\n",
        "print(a[2:5])   #start at 2 and go until 5 not included\r\n",
        "                #slicing "
      ],
      "execution_count": null,
      "outputs": [
        {
          "output_type": "stream",
          "text": [
            "a\n",
            "c\n",
            "f\n",
            "g\n",
            "f\n",
            "cde\n"
          ],
          "name": "stdout"
        }
      ]
    },
    {
      "cell_type": "code",
      "metadata": {
        "id": "a2byi8LMj9x3"
      },
      "source": [
        ""
      ],
      "execution_count": null,
      "outputs": []
    }
  ]
}