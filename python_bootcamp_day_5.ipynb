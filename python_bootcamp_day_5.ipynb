{
  "nbformat": 4,
  "nbformat_minor": 0,
  "metadata": {
    "colab": {
      "name": "python bootcamp day 5.ipynb",
      "provenance": [],
      "include_colab_link": true
    },
    "kernelspec": {
      "name": "python3",
      "display_name": "Python 3"
    }
  },
  "cells": [
    {
      "cell_type": "markdown",
      "metadata": {
        "id": "view-in-github",
        "colab_type": "text"
      },
      "source": [
        "<a href=\"https://colab.research.google.com/github/agamgupta2015/Pyhton/blob/main/python_bootcamp_day_5.ipynb\" target=\"_parent\"><img src=\"https://colab.research.google.com/assets/colab-badge.svg\" alt=\"Open In Colab\"/></a>"
      ]
    },
    {
      "cell_type": "code",
      "metadata": {
        "id": "pX-Z4Ly74vF8"
      },
      "source": [
        "#dictionary and set\r\n"
      ],
      "execution_count": null,
      "outputs": []
    },
    {
      "cell_type": "code",
      "metadata": {
        "id": "hzP91Ymu_xnZ"
      },
      "source": [
        "# # dictionary is a unordered collection of items. each value in a dictionary is a key value pair.\r\n",
        "\r\n",
        "# 5:- \"name\"\r\n",
        "# [1,2,3,,4,56,7,9,10]  O(n) time complexity to access the element in the lsit\r\n",
        "\r\n",
        "# dict[1]=1\r\n",
        "# dict[2]=1\r\n",
        "# dict[3]=1\r\n",
        "\r\n",
        "# print(dict[8])     O(1) time complexity\r\n",
        "\r\n"
      ],
      "execution_count": null,
      "outputs": []
    },
    {
      "cell_type": "code",
      "metadata": {
        "colab": {
          "base_uri": "https://localhost:8080/"
        },
        "id": "Zo32PcQqA0ed",
        "outputId": "e0a62b65-5579-41e0-bf8b-bf819d262520"
      },
      "source": [
        "a=[1,2,3,4,5,6]       \r\n",
        "num=7\r\n",
        "for i in a:\r\n",
        "  if i==num:\r\n",
        "    print(\"found\")\r\n",
        "  print(i)\r\n"
      ],
      "execution_count": null,
      "outputs": [
        {
          "output_type": "stream",
          "text": [
            "1\n",
            "2\n",
            "3\n",
            "4\n",
            "5\n",
            "6\n"
          ],
          "name": "stdout"
        }
      ]
    },
    {
      "cell_type": "code",
      "metadata": {
        "colab": {
          "base_uri": "https://localhost:8080/"
        },
        "id": "8vjcuQr-BNpm",
        "outputId": "0f7ff083-2d9a-44b4-fdc0-2d1ab31c539f"
      },
      "source": [
        "dict1={1:1,2:1,3:1,4:1,5:1,6:1}\r\n",
        "print(dict1.get(7,\"not found\"))     O(1) time "
      ],
      "execution_count": null,
      "outputs": [
        {
          "output_type": "stream",
          "text": [
            "not found\n"
          ],
          "name": "stdout"
        }
      ]
    },
    {
      "cell_type": "code",
      "metadata": {
        "id": "pGnC7uBpBeL6"
      },
      "source": [
        "my_dict={}    #empty dict\r\n",
        "a={1:\"one\",2:\"two\",3:\"three\"}     #with values\r\n",
        "b={\"list\":[1,2,3,4,5],\"list2\":[12,3],4:\"45\"}    #with values"
      ],
      "execution_count": null,
      "outputs": []
    },
    {
      "cell_type": "code",
      "metadata": {
        "colab": {
          "base_uri": "https://localhost:8080/"
        },
        "id": "eok3_wU4B7f1",
        "outputId": "950b8018-effc-4503-d1da-13b765631328"
      },
      "source": [
        "#acessing elements in the list\r\n",
        "a={1:\"one\",2:\"two\",3:\"three\",\"name\":\"rahul\"}\r\n",
        "\r\n",
        "\r\n",
        "print(a[1])\r\n",
        "print(a[\"name\"])    \r\n",
        "\r\n",
        "print(a.get(4,\"not found\"))"
      ],
      "execution_count": null,
      "outputs": [
        {
          "output_type": "stream",
          "text": [
            "one\n",
            "rahul\n",
            "not found\n"
          ],
          "name": "stdout"
        }
      ]
    },
    {
      "cell_type": "code",
      "metadata": {
        "colab": {
          "base_uri": "https://localhost:8080/"
        },
        "id": "2Cvo0wOtCMfV",
        "outputId": "8025d6d5-9115-48a3-95e1-4db11ac74aaa"
      },
      "source": [
        "#changing and adding elements in the list\r\n",
        "a={1:\"one\",2:\"two\",3:\"three\",\"name\":\"rahul\"}\r\n",
        "\r\n",
        "a[2]=\"tow\"\r\n",
        "print(a)\r\n",
        "\r\n",
        "a[4]=\"four\"\r\n",
        "print(a)"
      ],
      "execution_count": null,
      "outputs": [
        {
          "output_type": "stream",
          "text": [
            "{1: 'one', 2: 'tow', 3: 'three', 'name': 'rahul'}\n",
            "{1: 'one', 2: 'tow', 3: 'three', 'name': 'rahul', 4: 'four'}\n"
          ],
          "name": "stdout"
        }
      ]
    },
    {
      "cell_type": "code",
      "metadata": {
        "colab": {
          "base_uri": "https://localhost:8080/"
        },
        "id": "CnN5yyVoDKs0",
        "outputId": "08abac6d-5b6e-48aa-bfc3-bd9e2471dcc3"
      },
      "source": [
        "#deleting elements from the dictionary\r\n",
        "a={1:\"one\",2:\"two\",3:\"three\",\"name\":\"rahul\"}\r\n",
        "\r\n",
        "print(a.pop(1))\r\n",
        "print(a)\r\n",
        "\r\n",
        "del a[2]      #to delete a particular element\r\n",
        "print(a)\r\n",
        "\r\n",
        "\r\n",
        "a.clear()    #to clear the whole dict\r\n",
        "print(a)\r\n"
      ],
      "execution_count": null,
      "outputs": [
        {
          "output_type": "stream",
          "text": [
            "one\n",
            "{2: 'two', 3: 'three', 'name': 'rahul'}\n",
            "{3: 'three', 'name': 'rahul'}\n",
            "{}\n"
          ],
          "name": "stdout"
        }
      ]
    },
    {
      "cell_type": "code",
      "metadata": {
        "colab": {
          "base_uri": "https://localhost:8080/"
        },
        "id": "cs59OjoqDino",
        "outputId": "76c10faf-9ef9-462c-f648-cdf1ab94d75a"
      },
      "source": [
        "a={1:\"one\",2:\"two\",3:\"three\",\"name\":\"rahul\"}\r\n",
        "\r\n",
        "rev_a={v:k for k,v in a.items()}    #adavnced form of a for loop \r\n",
        "print(rev_a)"
      ],
      "execution_count": null,
      "outputs": [
        {
          "output_type": "stream",
          "text": [
            "{'one': 1, 'two': 2, 'three': 3, 'rahul': 'name'}\n"
          ],
          "name": "stdout"
        }
      ]
    },
    {
      "cell_type": "code",
      "metadata": {
        "colab": {
          "base_uri": "https://localhost:8080/"
        },
        "id": "7aXuYvsTEC0B",
        "outputId": "50c73f52-7181-4d53-adce-c3cdaea0c9dc"
      },
      "source": [
        "a={1:\"one\",2:\"two\",3:\"three\",\"name\":\"rahul\"}\r\n",
        "\r\n",
        "print(a.keys())\r\n",
        "print(a.items())    #list of tuples   (1,2) (3,4) (4,5)\r\n",
        "\r\n",
        "rev={}\r\n",
        "\r\n",
        "for k,v in a.items():\r\n",
        "  print(k,v,sep=\"   \")\r\n",
        "  rev[v]=k\r\n",
        "\r\n",
        "print(rev)\r\n"
      ],
      "execution_count": null,
      "outputs": [
        {
          "output_type": "stream",
          "text": [
            "dict_keys([1, 2, 3, 'name'])\n",
            "dict_items([(1, 'one'), (2, 'two'), (3, 'three'), ('name', 'rahul')])\n",
            "1   one\n",
            "2   two\n",
            "3   three\n",
            "name   rahul\n",
            "{'one': 1, 'two': 2, 'three': 3, 'rahul': 'name'}\n"
          ],
          "name": "stdout"
        }
      ]
    },
    {
      "cell_type": "code",
      "metadata": {
        "colab": {
          "base_uri": "https://localhost:8080/"
        },
        "id": "bk5cKFQ0GQZ-",
        "outputId": "2f75c3c8-cbac-4309-f03a-3f210684dff2"
      },
      "source": [
        "s1=\"hello\"\r\n",
        "l1=[c for c in s1]\r\n",
        "print(l1)"
      ],
      "execution_count": null,
      "outputs": [
        {
          "output_type": "stream",
          "text": [
            "['h', 'e', 'l', 'l', 'o']\n"
          ],
          "name": "stdout"
        }
      ]
    },
    {
      "cell_type": "code",
      "metadata": {
        "colab": {
          "base_uri": "https://localhost:8080/"
        },
        "id": "GDkEAphIEMG9",
        "outputId": "5e727bc1-d1d4-465b-c1ec-9dc43cb0d934"
      },
      "source": [
        "#set  :- is a uordered collection of items where there will be no duplicates\r\n",
        "\r\n",
        "s1=set()  #empty set\r\n",
        "print(s1)\r\n",
        "\r\n",
        "s2={1,2,3,4,1}\r\n",
        "print(s2)"
      ],
      "execution_count": null,
      "outputs": [
        {
          "output_type": "stream",
          "text": [
            "set()\n",
            "{1, 2, 3, 4}\n"
          ],
          "name": "stdout"
        }
      ]
    },
    {
      "cell_type": "code",
      "metadata": {
        "colab": {
          "base_uri": "https://localhost:8080/"
        },
        "id": "0AYmNO3NE1F6",
        "outputId": "9ada7a51-3651-4bc1-e488-629fdf5eae2d"
      },
      "source": [
        "s1={1,2,3,4,5}\r\n",
        "s1.add(6)\r\n",
        "\r\n",
        "print(s1)\r\n",
        "\r\n",
        "s1.add(6)\r\n",
        "print(s1)\r\n",
        "\r\n",
        "\r\n",
        "s1.add(6)\r\n",
        "print(s1)\r\n",
        "\r\n",
        "s1.update([17,8,9])   #addign multiple elements\r\n",
        "print(s1)"
      ],
      "execution_count": null,
      "outputs": [
        {
          "output_type": "stream",
          "text": [
            "{1, 2, 3, 4, 5, 6}\n",
            "{1, 2, 3, 4, 5, 6}\n",
            "{1, 2, 3, 4, 5, 6}\n",
            "{1, 2, 3, 4, 5, 6, 8, 9, 17}\n"
          ],
          "name": "stdout"
        }
      ]
    },
    {
      "cell_type": "code",
      "metadata": {
        "colab": {
          "base_uri": "https://localhost:8080/"
        },
        "id": "xfBgSXBZFjmU",
        "outputId": "8eb6fed5-4d3f-48b0-bb28-6201727ee289"
      },
      "source": [
        "#removing elements from the set\r\n",
        "\r\n",
        "#discard func and remove fucntion\r\n",
        "s1.discard(17)\r\n",
        "print(s1)\r\n",
        "\r\n",
        "s1.discard(10)\r\n",
        "print(s1)\r\n",
        "\r\n",
        "\r\n",
        "s1.remove(2)    #cannot remove elements if not rpesent gives error\r\n",
        "print(s1)\r\n",
        "\r\n",
        "\r\n",
        "s1.clear()\r\n",
        "print(s1)"
      ],
      "execution_count": null,
      "outputs": [
        {
          "output_type": "stream",
          "text": [
            "{0, 1, 2, 3, 4, 5, 12}\n",
            "{0, 1, 2, 3, 4, 5, 12}\n",
            "{0, 1, 3, 4, 5, 12}\n",
            "set()\n"
          ],
          "name": "stdout"
        }
      ]
    },
    {
      "cell_type": "code",
      "metadata": {
        "colab": {
          "base_uri": "https://localhost:8080/"
        },
        "id": "ETRSuElVG5--",
        "outputId": "4c4e955a-ccf5-4a50-e40e-ca521d5f7db5"
      },
      "source": [
        "s1={1,3,4,2,5,12,0}   #set will also be sorted\r\n",
        "print(s1)"
      ],
      "execution_count": null,
      "outputs": [
        {
          "output_type": "stream",
          "text": [
            "{0, 1, 2, 3, 4, 5, 12}\n"
          ],
          "name": "stdout"
        }
      ]
    },
    {
      "cell_type": "code",
      "metadata": {
        "id": "v1fOvZhnHYG-"
      },
      "source": [
        "#set operations\r\n",
        "\r\n",
        "a={1,2,3,4,5,6}\r\n",
        "b={4,5,6,7,8,9}\r\n",
        "\r\n"
      ],
      "execution_count": null,
      "outputs": []
    },
    {
      "cell_type": "code",
      "metadata": {
        "colab": {
          "base_uri": "https://localhost:8080/"
        },
        "id": "yohP2N4MHxN4",
        "outputId": "3123a94f-d0a8-4f1b-9819-4692cb2b8817"
      },
      "source": [
        "#set union\r\n",
        "print(a|b)   #pipe operator\r\n",
        "print(a.union(b))\r\n",
        "\r\n",
        "#intersection\r\n",
        "print(a&b)   #and operator\r\n",
        "print(a.intersection(b))\r\n",
        "\r\n",
        "#set differnce\r\n",
        "# a-a&b\r\n",
        "\r\n",
        "print(a-b)\r\n",
        "print(b-a)\r\n",
        "\r\n",
        "print(a.difference(b))\r\n",
        "print(b.difference(a))"
      ],
      "execution_count": null,
      "outputs": [
        {
          "output_type": "stream",
          "text": [
            "{1, 2, 3, 4, 5, 6, 7, 8, 9}\n",
            "{1, 2, 3, 4, 5, 6, 7, 8, 9}\n",
            "{4, 5, 6}\n",
            "{4, 5, 6}\n",
            "{1, 2, 3}\n",
            "{8, 9, 7}\n",
            "{1, 2, 3}\n",
            "{8, 9, 7}\n"
          ],
          "name": "stdout"
        }
      ]
    },
    {
      "cell_type": "code",
      "metadata": {
        "colab": {
          "base_uri": "https://localhost:8080/"
        },
        "id": "ffQZD60GH0aH",
        "outputId": "d7aff76d-49ee-4b03-d193-e799f91c06ac"
      },
      "source": [
        "#symetric differnce\r\n",
        "# a(union)b - a(intersection)b\r\n",
        "\r\n",
        "print(a^b)\r\n",
        "print(a.symmetric_difference(b))"
      ],
      "execution_count": null,
      "outputs": [
        {
          "output_type": "stream",
          "text": [
            "{1, 2, 3, 7, 8, 9}\n",
            "{1, 2, 3, 7, 8, 9}\n"
          ],
          "name": "stdout"
        }
      ]
    },
    {
      "cell_type": "code",
      "metadata": {
        "id": "qo36353XIqOC"
      },
      "source": [
        ""
      ],
      "execution_count": null,
      "outputs": []
    }
  ]
}