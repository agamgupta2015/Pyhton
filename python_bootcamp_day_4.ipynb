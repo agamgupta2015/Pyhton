{
  "nbformat": 4,
  "nbformat_minor": 0,
  "metadata": {
    "colab": {
      "name": "python bootcamp day 4.ipynb",
      "provenance": [],
      "include_colab_link": true
    },
    "kernelspec": {
      "name": "python3",
      "display_name": "Python 3"
    }
  },
  "cells": [
    {
      "cell_type": "markdown",
      "metadata": {
        "id": "view-in-github",
        "colab_type": "text"
      },
      "source": [
        "<a href=\"https://colab.research.google.com/github/agamgupta2015/Pyhton/blob/main/python_bootcamp_day_4.ipynb\" target=\"_parent\"><img src=\"https://colab.research.google.com/assets/colab-badge.svg\" alt=\"Open In Colab\"/></a>"
      ]
    },
    {
      "cell_type": "code",
      "metadata": {
        "colab": {
          "base_uri": "https://localhost:8080/"
        },
        "id": "QQl4rGIT2sFl",
        "outputId": "28d60810-28e2-44c1-b823-2a391eb43005"
      },
      "source": [
        "# #python list\r\n",
        "# list:- list is a array which can store any kind of data. It is used to store multiplle values inside a single container\r\n",
        "\r\n",
        "list1=[]   #empty list\r\n",
        "list2=[1,2,3,4]\r\n",
        "\r\n",
        "list3=[1,2,3,\"hello\",3.3]\r\n",
        "\r\n",
        "list4=[1,2,3,\"hi\",[5,6,7]]     #nested list\r\n",
        "\r\n",
        "print(list1,list2,list3,list4,sep=\"  \")  "
      ],
      "execution_count": 2,
      "outputs": [
        {
          "output_type": "stream",
          "text": [
            "[]  [1, 2, 3, 4]  [1, 2, 3, 'hello', 3.3]  [1, 2, 3, 'hi', [5, 6, 7]]\n"
          ],
          "name": "stdout"
        }
      ]
    },
    {
      "cell_type": "code",
      "metadata": {
        "colab": {
          "base_uri": "https://localhost:8080/"
        },
        "id": "zY1aycFS3e87",
        "outputId": "0495a555-45da-4216-82ee-de27ffa79cd2"
      },
      "source": [
        "# #accessing the elements inside the list\r\n",
        "\r\n",
        "# indexing in any programming language starts from 0 and also in python it starts from 0\r\n",
        "\r\n",
        "print(list4[1])\r\n",
        "print(list4[-1][1])\r\n",
        "\r\n",
        "print(list4[0])\r\n",
        "\r\n",
        "print(list4[-2])\r\n",
        "\r\n",
        "print(len(list4))     # indexing will start from 0 to (len(list)-1)\r\n",
        "\r\n",
        "\r\n",
        "print(list4[0], list4[3], sep=\" \")\r\n",
        "\r\n",
        "print(list4[2:4])        #slicing\r\n",
        "\r\n",
        "print(list4[-1])\r\n",
        "\r\n",
        "print(list4[-2])\r\n",
        "print(list4[-3])\r\n",
        "\r\n",
        "\r\n",
        "print(list3[0])\r\n",
        "print(list3[2])\r\n"
      ],
      "execution_count": 3,
      "outputs": [
        {
          "output_type": "stream",
          "text": [
            "2\n",
            "6\n",
            "1\n",
            "hi\n",
            "5\n",
            "1 hi\n",
            "[3, 'hi']\n",
            "[5, 6, 7]\n",
            "hi\n",
            "3\n",
            "1\n",
            "3\n"
          ],
          "name": "stdout"
        }
      ]
    },
    {
      "cell_type": "code",
      "metadata": {
        "colab": {
          "base_uri": "https://localhost:8080/"
        },
        "id": "KWdB4hlR4aDs",
        "outputId": "74d9239f-61ef-4615-81fa-a21a4fa3cc41"
      },
      "source": [
        "#slicing  :- it is used to access a range of elements from a contianer(list)  \r\n",
        "list4=[1,2,3,4,5,6]\r\n",
        "print(list4[0:4])       #it will make a new list containing all element from 0 to 3\r\n",
        "print(list4[-5:-2])\r\n",
        "\r\n",
        "print(list4[2:len(list4)])\r\n",
        "print(list4[2:])\r\n",
        "print(list4[2::2])\r\n",
        "print(list4[1::2])\r\n",
        "print(list4[:])\r\n",
        "print(list4[::-1])\r\n",
        "print(list4[::-2])\r\n"
      ],
      "execution_count": null,
      "outputs": [
        {
          "output_type": "stream",
          "text": [
            "[1, 2, 3, 4]\n",
            "[2, 3, 4]\n",
            "[3, 4, 5, 6]\n",
            "[3, 4, 5, 6]\n",
            "[3, 5]\n",
            "[2, 4, 6]\n",
            "[1, 2, 3, 4, 5, 6]\n",
            "[6, 5, 4, 3, 2, 1]\n",
            "[6, 4, 2]\n"
          ],
          "name": "stdout"
        }
      ]
    },
    {
      "cell_type": "code",
      "metadata": {
        "colab": {
          "base_uri": "https://localhost:8080/"
        },
        "id": "8mFVbbaW6hGA",
        "outputId": "14eda558-e552-489c-8e1d-9ef6f12bf918"
      },
      "source": [
        "# #adding and changing list items\r\n",
        "\r\n",
        "# lists are mutable :- the values inside a list can be changed they can be removed inserted adn updated\r\n",
        "\r\n",
        "#updating a list\r\n",
        "l1=[2,4,6,8,10]\r\n",
        "l1[0]=1\r\n",
        "print(l1)\r\n",
        "\r\n",
        "l1[2:4]=[4,17]\r\n",
        "print(l1)\r\n"
      ],
      "execution_count": null,
      "outputs": [
        {
          "output_type": "stream",
          "text": [
            "[1, 4, 6, 8, 10]\n",
            "[1, 4, 4, 17, 10]\n"
          ],
          "name": "stdout"
        }
      ]
    },
    {
      "cell_type": "code",
      "metadata": {
        "colab": {
          "base_uri": "https://localhost:8080/"
        },
        "id": "gk-supVk8DNP",
        "outputId": "8a0c4997-2e38-4e4c-ede1-d56155b2507d"
      },
      "source": [
        "#how to add a particular value in a list\r\n",
        "l1=[1,2,3,4,5]\r\n",
        "\r\n",
        "l1.append(7)    #append cmd inserts elements at the end of the list\r\n",
        "print(l1)\r\n",
        "\r\n",
        "l1.extend([10,11,12])\r\n",
        "print(l1)"
      ],
      "execution_count": null,
      "outputs": [
        {
          "output_type": "stream",
          "text": [
            "[1, 2, 3, 4, 5, 7]\n",
            "[1, 2, 3, 4, 5, 7, 10, 11, 12]\n"
          ],
          "name": "stdout"
        }
      ]
    },
    {
      "cell_type": "code",
      "metadata": {
        "colab": {
          "base_uri": "https://localhost:8080/"
        },
        "id": "gyPDIoF48dw_",
        "outputId": "f3650a7d-edd2-4e7c-b2ac-90d199fc31ce"
      },
      "source": [
        "#removing items from the list\r\n",
        "\r\n",
        "l1=[1,2,3,4,5]\r\n",
        "\r\n",
        "del l1[2]\r\n",
        "print(l1)\r\n",
        "\r\n",
        "del l1[0:2]\r\n",
        "print(l1)\r\n"
      ],
      "execution_count": null,
      "outputs": [
        {
          "output_type": "stream",
          "text": [
            "[1, 2, 4, 5]\n"
          ],
          "name": "stdout"
        }
      ]
    },
    {
      "cell_type": "code",
      "metadata": {
        "colab": {
          "base_uri": "https://localhost:8080/"
        },
        "id": "rzWG5XsR9Bvn",
        "outputId": "4418b5c3-2722-422f-80b8-f14d8f60bbdc"
      },
      "source": [
        "list4=[1,2,3,4,5]\r\n",
        "list4.pop()   #pop command is used to remove the elememt from the last\r\n",
        "\r\n",
        "print(list4)\r\n",
        "\r\n",
        "list4.remove(2)    #remove amd removes a particular element from the list after searching it\r\n",
        "print(list4)\r\n",
        "\r\n",
        "\r\n",
        "list4.clear()       #remove all element from the list\r\n",
        "print(list4)"
      ],
      "execution_count": null,
      "outputs": [
        {
          "output_type": "stream",
          "text": [
            "[1, 2, 3, 4]\n",
            "[1, 3, 4]\n",
            "[]\n"
          ],
          "name": "stdout"
        }
      ]
    },
    {
      "cell_type": "code",
      "metadata": {
        "colab": {
          "base_uri": "https://localhost:8080/"
        },
        "id": "5pR5SPcE9Hb2",
        "outputId": "aba16d10-2245-4d79-9a35-3589d5f64b2b"
      },
      "source": [
        "#adding element\r\n",
        "list4=[1,2,3,4]\r\n",
        "list4.insert(1,\"new ele\")\r\n",
        "print(list4)"
      ],
      "execution_count": null,
      "outputs": [
        {
          "output_type": "stream",
          "text": [
            "[1, 'new ele', 2, 3, 4]\n"
          ],
          "name": "stdout"
        }
      ]
    },
    {
      "cell_type": "code",
      "metadata": {
        "colab": {
          "base_uri": "https://localhost:8080/"
        },
        "id": "dx-y4TwU99Gx",
        "outputId": "16242482-aaac-433d-de9d-52657ab597cc"
      },
      "source": [
        "#index \r\n",
        "list4=[1,2,3,4,5,6]\r\n",
        "print(list4.index(4))    #index command is used to search an element in the list"
      ],
      "execution_count": null,
      "outputs": [
        {
          "output_type": "stream",
          "text": [
            "3\n"
          ],
          "name": "stdout"
        }
      ]
    },
    {
      "cell_type": "code",
      "metadata": {
        "colab": {
          "base_uri": "https://localhost:8080/"
        },
        "id": "KV3gvYQH-NWF",
        "outputId": "0b0fae43-18e9-4afe-ae89-190751e1a8ce"
      },
      "source": [
        "#reverse command is used to reverse a list\r\n",
        "list1=[1,2,3,4,5]\r\n",
        "list1.reverse()\r\n",
        "print(list1)\r\n",
        "\r\n",
        "\r\n",
        "list1=list1[::-1]\r\n",
        "print(list1)"
      ],
      "execution_count": null,
      "outputs": [
        {
          "output_type": "stream",
          "text": [
            "[5, 4, 3, 2, 1]\n",
            "[1, 2, 3, 4, 5]\n"
          ],
          "name": "stdout"
        }
      ]
    },
    {
      "cell_type": "code",
      "metadata": {
        "id": "xCJ48hr3-dxf"
      },
      "source": [
        "#sort command\r\n",
        "li=[3,1,4,6,2]\r\n",
        "li.sort(reverse=True)\r\n",
        "print(li)"
      ],
      "execution_count": null,
      "outputs": []
    },
    {
      "cell_type": "code",
      "metadata": {
        "colab": {
          "base_uri": "https://localhost:8080/"
        },
        "id": "qlYVj7qa-1I2",
        "outputId": "99d87172-6db0-49f9-d81c-59ef6457254f"
      },
      "source": [
        "#sorted command\r\n",
        "l1=[3,4,1,5]\r\n",
        "\r\n",
        "print(sorted(l1))    #does not change the list only sorts in memory but does not save it. the original list is preserved\r\n",
        "print(l1)"
      ],
      "execution_count": null,
      "outputs": [
        {
          "output_type": "stream",
          "text": [
            "[1, 3, 4, 5]\n",
            "[3, 4, 1, 5]\n"
          ],
          "name": "stdout"
        }
      ]
    },
    {
      "cell_type": "code",
      "metadata": {
        "id": "lMjoO1ChAFrB"
      },
      "source": [
        ""
      ],
      "execution_count": null,
      "outputs": []
    }
  ]
}