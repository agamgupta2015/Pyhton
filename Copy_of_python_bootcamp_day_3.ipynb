{
  "nbformat": 4,
  "nbformat_minor": 0,
  "metadata": {
    "colab": {
      "name": "Copy of python bootcamp day 3.ipynb",
      "provenance": [],
      "include_colab_link": true
    },
    "kernelspec": {
      "name": "python3",
      "display_name": "Python 3"
    }
  },
  "cells": [
    {
      "cell_type": "markdown",
      "metadata": {
        "id": "view-in-github",
        "colab_type": "text"
      },
      "source": [
        "<a href=\"https://colab.research.google.com/github/agamgupta2015/Pyhton/blob/main/Copy_of_python_bootcamp_day_3.ipynb\" target=\"_parent\"><img src=\"https://colab.research.google.com/assets/colab-badge.svg\" alt=\"Open In Colab\"/></a>"
      ]
    },
    {
      "cell_type": "code",
      "metadata": {
        "id": "aUgNvizGrbIP"
      },
      "source": [
        "def function(name, msg=\"hello\"):   #name adn msg are the parameter where msg is a dfault parameter\r\n",
        "  print(name,msg,sep=\" \")\r\n"
      ],
      "execution_count": 1,
      "outputs": []
    },
    {
      "cell_type": "code",
      "metadata": {
        "colab": {
          "base_uri": "https://localhost:8080/"
        },
        "id": "VinjVBiArwQK",
        "outputId": "85e78764-6991-4ef2-920f-aa2f42d8dd24"
      },
      "source": [
        "function(\"hi\")\r\n",
        "function(\"hi\",\"how are you\")\r\n",
        "function(\"rahul\", \"how are you\")\r\n",
        "function(\"how are you\", \"rahul\")    #msg is being passed to name and name is being passed to msg as default sequence"
      ],
      "execution_count": 2,
      "outputs": [
        {
          "output_type": "stream",
          "text": [
            "hi hello\n",
            "hi how are you\n",
            "rahul how are you\n",
            "how are you rahul\n"
          ],
          "name": "stdout"
        }
      ]
    },
    {
      "cell_type": "code",
      "metadata": {
        "colab": {
          "base_uri": "https://localhost:8080/"
        },
        "id": "TxyZ7bF-r_7r",
        "outputId": "9330d6aa-6bcc-4442-f8f0-4a83bae73e52"
      },
      "source": [
        "function(name=\"hi\",msg=\"how are you\")\r\n",
        "function(name=\"rahul\", msg=\"how are you\")    #python keyword arguments\r\n",
        "function(msg=\"how are you\", name=\"rahul\")"
      ],
      "execution_count": null,
      "outputs": [
        {
          "output_type": "stream",
          "text": [
            "hi how are you\n",
            "rahul how are you\n",
            "rahul how are you\n"
          ],
          "name": "stdout"
        }
      ]
    },
    {
      "cell_type": "code",
      "metadata": {
        "id": "lVYXgrn9sSIu"
      },
      "source": [
        "#python arbitary arguments\r\n",
        "\r\n",
        "def greet(*names):               #(1,2,3)   #iterator  names=(1,2,3,5,45)\r\n",
        "  print(names)"
      ],
      "execution_count": null,
      "outputs": []
    },
    {
      "cell_type": "code",
      "metadata": {
        "colab": {
          "base_uri": "https://localhost:8080/"
        },
        "id": "XSnmTuzct30U",
        "outputId": "028220ed-0acc-4d66-94dc-46ffe7b4ed69"
      },
      "source": [
        "greet(\"1\",\"2\",\"3\",\"5\",\"45\")\r\n",
        "greet(\"1\",\"2\",\"3\")"
      ],
      "execution_count": null,
      "outputs": [
        {
          "output_type": "stream",
          "text": [
            "('1', '2', '3', '5', '45')\n",
            "('1', '2', '3')\n"
          ],
          "name": "stdout"
        }
      ]
    },
    {
      "cell_type": "code",
      "metadata": {
        "id": "T9Y51xYft8mC"
      },
      "source": [
        "def addition(*numbers):\r\n",
        "  sum=0\r\n",
        "  for num in numbers:\r\n",
        "    sum=sum+num\r\n",
        "  print(sum)\r\n"
      ],
      "execution_count": null,
      "outputs": []
    },
    {
      "cell_type": "code",
      "metadata": {
        "colab": {
          "base_uri": "https://localhost:8080/"
        },
        "id": "TiEdD_CIukcl",
        "outputId": "97a544b7-bdbd-422a-cdf8-3bb268168e7a"
      },
      "source": [
        "addition(45,12,34,67,90)"
      ],
      "execution_count": null,
      "outputs": [
        {
          "output_type": "stream",
          "text": [
            "248\n"
          ],
          "name": "stdout"
        }
      ]
    },
    {
      "cell_type": "code",
      "metadata": {
        "id": "AKK5ipAKumfe"
      },
      "source": [
        "#recursion  : function calling the same function again and again\r\n",
        "\r\n",
        "def factorial(num):                        \r\n",
        "  if num==1:\r\n",
        "    return 1\r\n",
        "  else:\r\n",
        "    return (num*factorial(num-1))\r\n"
      ],
      "execution_count": null,
      "outputs": []
    },
    {
      "cell_type": "code",
      "metadata": {
        "colab": {
          "base_uri": "https://localhost:8080/"
        },
        "id": "WiriJFaIvimG",
        "outputId": "8c283e32-c385-4374-abc1-f8747a871617"
      },
      "source": [
        "print(factorial(5))\r\n",
        "print(factorial(10))\r\n",
        "print(factorial(3))"
      ],
      "execution_count": null,
      "outputs": [
        {
          "output_type": "stream",
          "text": [
            "120\n",
            "3628800\n",
            "6\n"
          ],
          "name": "stdout"
        }
      ]
    },
    {
      "cell_type": "code",
      "metadata": {
        "colab": {
          "base_uri": "https://localhost:8080/"
        },
        "id": "k01reB50wxpp",
        "outputId": "a76ecf40-d185-471f-ca32-0482b240d96f"
      },
      "source": [
        "#GCD := greater common divisor\r\n",
        "#  2,4 =2\r\n",
        "#  3, 7 =1\r\n",
        "\r\n",
        "# 15 10  = 5\r\n",
        "\r\n",
        "\r\n",
        "def gcdcode(a,b):\r\n",
        "  if b==0:\r\n",
        "    return a\r\n",
        "  else:\r\n",
        "    return gcdcode(b,a%b)\r\n",
        "\r\n",
        "\r\n",
        "print(gcdcode(10,15))\r\n"
      ],
      "execution_count": null,
      "outputs": [
        {
          "output_type": "stream",
          "text": [
            "5\n"
          ],
          "name": "stdout"
        }
      ]
    },
    {
      "cell_type": "code",
      "metadata": {
        "colab": {
          "base_uri": "https://localhost:8080/"
        },
        "id": "B0z1QA_2x6Y9",
        "outputId": "5704e8c7-05e9-4d39-8a9f-6d19e1a0d56e"
      },
      "source": [
        "import math\r\n",
        "print(math.gcd(10,15))"
      ],
      "execution_count": null,
      "outputs": [
        {
          "output_type": "stream",
          "text": [
            "5\n"
          ],
          "name": "stdout"
        }
      ]
    },
    {
      "cell_type": "code",
      "metadata": {
        "colab": {
          "base_uri": "https://localhost:8080/"
        },
        "id": "7AsCecT4vl7c",
        "outputId": "9ae9f9bd-8baf-4c44-8c0c-8ac5d0893e87"
      },
      "source": [
        "#anonymous functions:  these function do not have a name\r\n",
        "#make code shorter and professional\r\n",
        "#have good inbuilt functionalities\r\n",
        "\r\n",
        "\r\n",
        "\r\n",
        "#lambda function\r\n",
        "\r\n",
        "a=lambda x:x+2\r\n",
        "print(a(3))\r\n",
        "\r\n",
        "\r\n",
        "func=lambda x,y: x+y\r\n",
        "\r\n",
        "\r\n",
        "def func1(x,y):\r\n",
        "  return x*y\r\n",
        "\r\n",
        "print(func(10,15))\r\n",
        "print(func1(10,15))\r\n",
        "print(func(\"hi\",\"hello\"))"
      ],
      "execution_count": null,
      "outputs": [
        {
          "output_type": "stream",
          "text": [
            "5\n",
            "25\n",
            "150\n",
            "hihello\n"
          ],
          "name": "stdout"
        }
      ]
    },
    {
      "cell_type": "code",
      "metadata": {
        "colab": {
          "base_uri": "https://localhost:8080/"
        },
        "id": "Oj9p9XLUyFqe",
        "outputId": "67498717-cf7d-4a25-ce93-6b2b43aa4d39"
      },
      "source": [
        "# #filter function\r\n",
        "\r\n",
        "# filter(function, list)\r\n",
        "\r\n",
        "list1=[1,2,3,4,5,6,7,8,10]\r\n",
        "\r\n",
        "new_list=list(filter(lambda x:(x%2==0),list1))\r\n",
        "\r\n",
        "print(new_list)\r\n",
        "\r\n",
        "\r\n",
        "\r\n",
        "def filterfunc(n):\r\n",
        "  return (n%2==0)\r\n",
        "\r\n",
        "print(list(filter(filterfunc,list1)))"
      ],
      "execution_count": null,
      "outputs": [
        {
          "output_type": "stream",
          "text": [
            "[2, 4, 6, 8, 10]\n",
            "[2, 4, 6, 8, 10]\n"
          ],
          "name": "stdout"
        }
      ]
    },
    {
      "cell_type": "code",
      "metadata": {
        "colab": {
          "base_uri": "https://localhost:8080/"
        },
        "id": "U114if3wzj0Z",
        "outputId": "a4e0df0d-d469-473b-b3b1-5cdb401f6c31"
      },
      "source": [
        "#map function\r\n",
        "\r\n",
        "list1=range(10)\r\n",
        "\r\n",
        "new_list=list(map(lambda x:x+10,list1))\r\n",
        "print(new_list)\r\n"
      ],
      "execution_count": null,
      "outputs": [
        {
          "output_type": "stream",
          "text": [
            "[10, 11, 12, 13, 14, 15, 16, 17, 18, 19]\n"
          ],
          "name": "stdout"
        }
      ]
    },
    {
      "cell_type": "code",
      "metadata": {
        "colab": {
          "base_uri": "https://localhost:8080/"
        },
        "id": "D2GGuWD_0sNm",
        "outputId": "33a9845d-2cd3-4045-932d-9a6a493c0527"
      },
      "source": [
        "#importing packages in python\r\n",
        "\r\n",
        "import this"
      ],
      "execution_count": null,
      "outputs": [
        {
          "output_type": "stream",
          "text": [
            "The Zen of Python, by Tim Peters\n",
            "\n",
            "Beautiful is better than ugly.\n",
            "Explicit is better than implicit.\n",
            "Simple is better than complex.\n",
            "Complex is better than complicated.\n",
            "Flat is better than nested.\n",
            "Sparse is better than dense.\n",
            "Readability counts.\n",
            "Special cases aren't special enough to break the rules.\n",
            "Although practicality beats purity.\n",
            "Errors should never pass silently.\n",
            "Unless explicitly silenced.\n",
            "In the face of ambiguity, refuse the temptation to guess.\n",
            "There should be one-- and preferably only one --obvious way to do it.\n",
            "Although that way may not be obvious at first unless you're Dutch.\n",
            "Now is better than never.\n",
            "Although never is often better than *right* now.\n",
            "If the implementation is hard to explain, it's a bad idea.\n",
            "If the implementation is easy to explain, it may be a good idea.\n",
            "Namespaces are one honking great idea -- let's do more of those!\n"
          ],
          "name": "stdout"
        }
      ]
    },
    {
      "cell_type": "code",
      "metadata": {
        "colab": {
          "base_uri": "https://localhost:8080/"
        },
        "id": "q-pNuu__1tIc",
        "outputId": "be2b75b2-1cd8-4bf2-dd55-846490f7d87d"
      },
      "source": [
        "import math as m\r\n",
        "\r\n",
        "\r\n",
        "print(m.pi)\r\n",
        "print(m.cos(m.pi))"
      ],
      "execution_count": null,
      "outputs": [
        {
          "output_type": "stream",
          "text": [
            "3.141592653589793\n",
            "-1.0\n"
          ],
          "name": "stdout"
        }
      ]
    },
    {
      "cell_type": "code",
      "metadata": {
        "id": "lgGkwZYY173F"
      },
      "source": [
        ""
      ],
      "execution_count": null,
      "outputs": []
    }
  ]
}