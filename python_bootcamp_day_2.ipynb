{
  "nbformat": 4,
  "nbformat_minor": 0,
  "metadata": {
    "colab": {
      "name": "python bootcamp day 2.ipynb",
      "provenance": [],
      "include_colab_link": true
    },
    "kernelspec": {
      "name": "python3",
      "display_name": "Python 3"
    }
  },
  "cells": [
    {
      "cell_type": "markdown",
      "metadata": {
        "id": "view-in-github",
        "colab_type": "text"
      },
      "source": [
        "<a href=\"https://colab.research.google.com/github/agamgupta2015/Pyhton/blob/main/python_bootcamp_day_2.ipynb\" target=\"_parent\"><img src=\"https://colab.research.google.com/assets/colab-badge.svg\" alt=\"Open In Colab\"/></a>"
      ]
    },
    {
      "cell_type": "code",
      "metadata": {
        "id": "8OukDMuMhKn2"
      },
      "source": [
        "#python flow control"
      ],
      "execution_count": null,
      "outputs": []
    },
    {
      "cell_type": "code",
      "metadata": {
        "id": "qoLvF5HNiPpa"
      },
      "source": [
        "#condition statement\r\n",
        "# if else statements\r\n",
        "\r\n",
        "# if condition :\r\n",
        "#     statements\r\n",
        "# elif condition:\r\n",
        "#   statement\r\n",
        "# else consition:\r\n",
        "#   statement"
      ],
      "execution_count": null,
      "outputs": []
    },
    {
      "cell_type": "code",
      "metadata": {
        "colab": {
          "base_uri": "https://localhost:8080/"
        },
        "id": "2C3DeMknitPx",
        "outputId": "5489ed02-677b-4da3-c44b-7cb9bf29cc3f"
      },
      "source": [
        "num=-3\r\n",
        "if num>0:    #true\r\n",
        "  print(num , \"is a positive number\")\r\n",
        "else :\r\n",
        "  print(num, \"is a negetive number\")\r\n",
        "\r\n"
      ],
      "execution_count": null,
      "outputs": [
        {
          "output_type": "stream",
          "text": [
            "-3 is a negetive number\n"
          ],
          "name": "stdout"
        }
      ]
    },
    {
      "cell_type": "code",
      "metadata": {
        "colab": {
          "base_uri": "https://localhost:8080/"
        },
        "id": "M4A5LvrPjDYr",
        "outputId": "63a11ef7-3af2-4037-99b6-257e3ff7f21c"
      },
      "source": [
        "num=0\r\n",
        " \r\n",
        "if num>0:\r\n",
        "  print(\"postive number\")\r\n",
        "elif num==0:\r\n",
        "  print(0)\r\n",
        "else:\r\n",
        "  print(\"negetiive number\")"
      ],
      "execution_count": null,
      "outputs": [
        {
          "output_type": "stream",
          "text": [
            "0\n"
          ],
          "name": "stdout"
        }
      ]
    },
    {
      "cell_type": "code",
      "metadata": {
        "colab": {
          "base_uri": "https://localhost:8080/"
        },
        "id": "MmCjn8whja2p",
        "outputId": "3a5a22fc-cc31-4f34-c6fa-dbf8a53ad9bb"
      },
      "source": [
        "#nested if else statement\r\n",
        "num=5\r\n",
        "\r\n",
        "if num>0 :\r\n",
        "  if num>10:\r\n",
        "    print(\"greater than 10\")\r\n",
        "  else:\r\n",
        "    print(\"less than 10\")\r\n",
        "else :\r\n",
        "  if num<-10:\r\n",
        "    print(\"less than -10\")\r\n",
        "  else:\r\n",
        "    print(\"greater than -10\")\r\n"
      ],
      "execution_count": null,
      "outputs": [
        {
          "output_type": "stream",
          "text": [
            "less than 10\n"
          ],
          "name": "stdout"
        }
      ]
    },
    {
      "cell_type": "code",
      "metadata": {
        "colab": {
          "base_uri": "https://localhost:8080/"
        },
        "id": "gdlPcGMzj4PC",
        "outputId": "de083f57-af6e-44ca-bf06-ba6b2f6a1d93"
      },
      "source": [
        "# # #python loops\r\n",
        "# # 2 types of loops in python\r\n",
        "# # for loop and while loop\r\n",
        "\r\n",
        "\r\n",
        "# for loop\r\n",
        "\r\n",
        "s=\"string\"\r\n",
        "for character in s:\r\n",
        "  print(character)"
      ],
      "execution_count": null,
      "outputs": [
        {
          "output_type": "stream",
          "text": [
            "s\n",
            "t\n",
            "r\n",
            "i\n",
            "n\n",
            "g\n"
          ],
          "name": "stdout"
        }
      ]
    },
    {
      "cell_type": "code",
      "metadata": {
        "colab": {
          "base_uri": "https://localhost:8080/"
        },
        "id": "CuIE_fFhkZlw",
        "outputId": "628b5505-fe9e-4b71-bcfb-6a8da1a51215"
      },
      "source": [
        "a=[1,2,3,4,5]\r\n",
        "\r\n",
        "for num in a:\r\n",
        "  print(2*num)\r\n"
      ],
      "execution_count": null,
      "outputs": [
        {
          "output_type": "stream",
          "text": [
            "2\n",
            "4\n",
            "6\n",
            "8\n",
            "10\n"
          ],
          "name": "stdout"
        }
      ]
    },
    {
      "cell_type": "code",
      "metadata": {
        "colab": {
          "base_uri": "https://localhost:8080/"
        },
        "id": "kF53qKorkl6N",
        "outputId": "630f0e53-98fd-44a1-85d3-d0aca6ca687e"
      },
      "source": [
        "a=[10,20,30,40,50]\r\n",
        "  # 0  1  2  3  4\r\n",
        "\r\n",
        "print(a[0])\r\n",
        "print(a[4])\r\n",
        "\r\n",
        "print()\r\n",
        "\r\n",
        "for id,num in enumerate(a):\r\n",
        "  print(id, num, sep=' ')"
      ],
      "execution_count": null,
      "outputs": [
        {
          "output_type": "stream",
          "text": [
            "10\n",
            "50\n",
            "\n",
            "0 10\n",
            "1 20\n",
            "2 30\n",
            "3 40\n",
            "4 50\n"
          ],
          "name": "stdout"
        }
      ]
    },
    {
      "cell_type": "code",
      "metadata": {
        "colab": {
          "base_uri": "https://localhost:8080/"
        },
        "id": "EU5JPWYRk1oC",
        "outputId": "3e3692f6-984e-4d2a-8be1-5b577d88f43c"
      },
      "source": [
        "print(list(range(10)))   #range function in python\r\n",
        "\r\n",
        "for i in range(5,21,5):\r\n",
        "  print (i)\r\n"
      ],
      "execution_count": null,
      "outputs": [
        {
          "output_type": "stream",
          "text": [
            "[0, 1, 2, 3, 4, 5, 6, 7, 8, 9]\n",
            "5\n",
            "10\n",
            "15\n",
            "20\n"
          ],
          "name": "stdout"
        }
      ]
    },
    {
      "cell_type": "code",
      "metadata": {
        "id": "5C0tN9MBlRqQ"
      },
      "source": [
        "# # #while statement\r\n",
        "# # it is used to iterate over a block of code till the statement is true\r\n",
        "\r\n",
        "#while condition:\r\n",
        "#   statement\r\n",
        " \r\n"
      ],
      "execution_count": null,
      "outputs": []
    },
    {
      "cell_type": "code",
      "metadata": {
        "colab": {
          "base_uri": "https://localhost:8080/"
        },
        "id": "OIBg-ekFl7Vi",
        "outputId": "a4ff6549-b8a9-4dbd-f514-65c9c6799b36"
      },
      "source": [
        "i=0\r\n",
        "a=[1,2,3,4,5]\r\n",
        "\r\n",
        "print(len(a))\r\n",
        "print()\r\n",
        "sum=0\r\n",
        "while i<len(a):\r\n",
        "  print(a[i])\r\n",
        "  sum=sum+a[i]\r\n",
        "  i=i+1\r\n",
        "\r\n",
        "\r\n",
        "print(sum)"
      ],
      "execution_count": null,
      "outputs": [
        {
          "output_type": "stream",
          "text": [
            "5\n",
            "\n",
            "1\n",
            "2\n",
            "3\n",
            "4\n",
            "5\n",
            "15\n"
          ],
          "name": "stdout"
        }
      ]
    },
    {
      "cell_type": "code",
      "metadata": {
        "colab": {
          "base_uri": "https://localhost:8080/"
        },
        "id": "Wy-jiW3YmGC5",
        "outputId": "9b0d9f4a-b7fb-4ef9-8614-26a405a0a76f"
      },
      "source": [
        "#break continue and pass\r\n",
        "#break statement if used to break the execution of the for/while loop and come out of the loop\r\n",
        "\r\n",
        "\r\n",
        "for i in range(10):\r\n",
        "  if i==9:\r\n",
        "    break\r\n",
        "  print(i)\r\n",
        "\r\n",
        "\r\n",
        "print(\"break statement executed\")"
      ],
      "execution_count": null,
      "outputs": [
        {
          "output_type": "stream",
          "text": [
            "0\n",
            "1\n",
            "2\n",
            "3\n",
            "4\n",
            "5\n",
            "6\n",
            "7\n",
            "8\n",
            "break statement executed\n"
          ],
          "name": "stdout"
        }
      ]
    },
    {
      "cell_type": "code",
      "metadata": {
        "colab": {
          "base_uri": "https://localhost:8080/"
        },
        "id": "pZ7T-En-mTrO",
        "outputId": "1d394ff3-0311-4b52-e626-ef10563a27c9"
      },
      "source": [
        "#continue statement is used to trnasfer the execution of the loop to the next iteration . it skips the execution of that particular code if contiue statement is met\r\n",
        "\r\n",
        "for i in range(10):\r\n",
        "  if i==5:\r\n",
        "    continue\r\n",
        "  print(i)"
      ],
      "execution_count": null,
      "outputs": [
        {
          "output_type": "stream",
          "text": [
            "0\n",
            "1\n",
            "2\n",
            "3\n",
            "4\n",
            "6\n",
            "7\n",
            "8\n",
            "9\n"
          ],
          "name": "stdout"
        }
      ]
    },
    {
      "cell_type": "code",
      "metadata": {
        "colab": {
          "base_uri": "https://localhost:8080/"
        },
        "id": "uPRx9hPhnPAH",
        "outputId": "1ca3a4c8-8373-4e24-be19-b8e481ae613a"
      },
      "source": [
        "a=[1,2,3,4,5]\r\n",
        "for i in a:\r\n",
        "  pass\r\n",
        "\r\n",
        "print(\"pass statement was executed\")"
      ],
      "execution_count": null,
      "outputs": [
        {
          "output_type": "stream",
          "text": [
            "pass statement was executed\n"
          ],
          "name": "stdout"
        }
      ]
    },
    {
      "cell_type": "code",
      "metadata": {
        "colab": {
          "base_uri": "https://localhost:8080/"
        },
        "id": "CLWQkif_nlok",
        "outputId": "ae503a80-4f6d-4134-8a3b-81d4fb86daf8"
      },
      "source": [
        "#print all even numbers in the list\r\n",
        "a=[23,56,12,45,90]\r\n",
        "\r\n",
        "for i in a:\r\n",
        "  if i%2==0:\r\n",
        "    print(i)\r\n"
      ],
      "execution_count": null,
      "outputs": [
        {
          "output_type": "stream",
          "text": [
            "56\n",
            "12\n",
            "90\n"
          ],
          "name": "stdout"
        }
      ]
    },
    {
      "cell_type": "code",
      "metadata": {
        "colab": {
          "base_uri": "https://localhost:8080/"
        },
        "id": "cfDd7tfypDnU",
        "outputId": "177e2b26-c205-47d6-c5f0-4035557eb84c"
      },
      "source": [
        "#take a num input from the user and print its binary form\r\n",
        "# 10 = 1010\r\n",
        "# 2=10\r\n",
        "# 3=11\r\n",
        "# 4=100\r\n",
        "\r\n",
        "n=(int)(input())\r\n",
        "print(bin(n))"
      ],
      "execution_count": null,
      "outputs": [
        {
          "output_type": "stream",
          "text": [
            "10\n",
            "0b1010\n"
          ],
          "name": "stdout"
        }
      ]
    },
    {
      "cell_type": "code",
      "metadata": {
        "colab": {
          "base_uri": "https://localhost:8080/"
        },
        "id": "qF2KaPNvqRPj",
        "outputId": "7b300166-dad2-4f0f-ea6c-539afd7769cd"
      },
      "source": [
        "num=(int)(input())\r\n",
        "s=\"\"\r\n",
        "\r\n",
        "while num>0:\r\n",
        "  s=s+(str)(num%2)\r\n",
        "  num=num//2\r\n",
        "\r\n",
        "print(s)\r\n",
        "print(s[::-1])  #slicing"
      ],
      "execution_count": null,
      "outputs": [
        {
          "output_type": "stream",
          "text": [
            "4\n",
            "001\n",
            "100\n"
          ],
          "name": "stdout"
        }
      ]
    },
    {
      "cell_type": "code",
      "metadata": {
        "id": "v0uz_dESqcrk"
      },
      "source": [
        "# #python functions\r\n",
        "# a function is a group of statement that perform a particular type of task\r\n",
        "# it is used so thta a particular kind of repetitive task can be performed again and again without rewriting the code\r\n"
      ],
      "execution_count": null,
      "outputs": []
    },
    {
      "cell_type": "code",
      "metadata": {
        "id": "_a2blPkirLBR"
      },
      "source": [
        "# def function_name(parameter):\r\n",
        "#   \"doctring\"\r\n",
        "#   statements\r\n",
        "\r\n",
        "\r\n",
        "def addition():\r\n",
        "  a=10\r\n",
        "  b=20\r\n",
        "  print(a+b)"
      ],
      "execution_count": null,
      "outputs": []
    },
    {
      "cell_type": "code",
      "metadata": {
        "colab": {
          "base_uri": "https://localhost:8080/"
        },
        "id": "WJAEAAdYrhVF",
        "outputId": "40027806-84ee-44e0-d7c9-75cddd9b7146"
      },
      "source": [
        "addition()"
      ],
      "execution_count": null,
      "outputs": [
        {
          "output_type": "stream",
          "text": [
            "30\n"
          ],
          "name": "stdout"
        }
      ]
    },
    {
      "cell_type": "code",
      "metadata": {
        "id": "gM21dpWQrq-c"
      },
      "source": [
        "def addition(num1,num2):#num1 and num2 are the parameter that are provided by the user\r\n",
        "    ''' it takes two numbers as parameter and return the sum  '''\r\n",
        "    print(num1+num2)"
      ],
      "execution_count": null,
      "outputs": []
    },
    {
      "cell_type": "code",
      "metadata": {
        "colab": {
          "base_uri": "https://localhost:8080/"
        },
        "id": "oe2d0t1bsCCR",
        "outputId": "40b47020-bf39-4a03-f071-06b414ad89d9"
      },
      "source": [
        "addition(1,2)\r\n",
        "addition(10,23)"
      ],
      "execution_count": null,
      "outputs": [
        {
          "output_type": "stream",
          "text": [
            "3\n",
            "33\n"
          ],
          "name": "stdout"
        }
      ]
    },
    {
      "cell_type": "code",
      "metadata": {
        "colab": {
          "base_uri": "https://localhost:8080/",
          "height": 35
        },
        "id": "VV4yKmNQsF5K",
        "outputId": "20939817-cfce-45c1-b410-436a61714345"
      },
      "source": [
        "addition.__doc__"
      ],
      "execution_count": null,
      "outputs": [
        {
          "output_type": "execute_result",
          "data": {
            "application/vnd.google.colaboratory.intrinsic+json": {
              "type": "string"
            },
            "text/plain": [
              "' it takes two numbers as parameter and return the sum  '"
            ]
          },
          "metadata": {
            "tags": []
          },
          "execution_count": 47
        }
      ]
    },
    {
      "cell_type": "code",
      "metadata": {
        "id": "Aaqb7vM-sowK"
      },
      "source": [
        "#user passed parameters and oteher is default parameter\r\n",
        "\r\n",
        "def greet(name,msg=\"good morning\"):\r\n",
        "  print(name, msg,sep=\" \")"
      ],
      "execution_count": null,
      "outputs": []
    },
    {
      "cell_type": "code",
      "metadata": {
        "colab": {
          "base_uri": "https://localhost:8080/"
        },
        "id": "YPRJmS5Gs0hx",
        "outputId": "310ee201-eba7-4bc9-9e23-b2df2ea6972d"
      },
      "source": [
        "greet(\"srk\")\r\n",
        "greet(\"hello\",\"how are you\")"
      ],
      "execution_count": null,
      "outputs": [
        {
          "output_type": "stream",
          "text": [
            "srk good morning\n",
            "hello how are you\n"
          ],
          "name": "stdout"
        }
      ]
    },
    {
      "cell_type": "code",
      "metadata": {
        "id": "wUnsv1BFs5w-"
      },
      "source": [
        ""
      ],
      "execution_count": null,
      "outputs": []
    }
  ]
}