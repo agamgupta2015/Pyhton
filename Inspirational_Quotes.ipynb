{
  "nbformat": 4,
  "nbformat_minor": 0,
  "metadata": {
    "colab": {
      "name": "Inspirational Quotes",
      "provenance": [],
      "include_colab_link": true
    },
    "kernelspec": {
      "name": "python3",
      "display_name": "Python 3"
    }
  },
  "cells": [
    {
      "cell_type": "markdown",
      "metadata": {
        "id": "view-in-github",
        "colab_type": "text"
      },
      "source": [
        "<a href=\"https://colab.research.google.com/github/agamgupta2015/Pyhton/blob/main/Inspirational_Quotes.ipynb\" target=\"_parent\"><img src=\"https://colab.research.google.com/assets/colab-badge.svg\" alt=\"Open In Colab\"/></a>"
      ]
    },
    {
      "cell_type": "code",
      "metadata": {
        "id": "Y9WgjmIJVP6Z"
      },
      "source": [
        "# BeautifulSoup - html:parser\n",
        "import bs4\n",
        "import requests"
      ],
      "execution_count": null,
      "outputs": []
    },
    {
      "cell_type": "code",
      "metadata": {
        "id": "9naxLcAMWAwt"
      },
      "source": [
        "url = \"https://www.passiton.com/inspirational-quotes?page=2\""
      ],
      "execution_count": null,
      "outputs": []
    },
    {
      "cell_type": "code",
      "metadata": {
        "id": "N5cy7hPcWVWD"
      },
      "source": [
        "# !pip install bs4"
      ],
      "execution_count": null,
      "outputs": []
    },
    {
      "cell_type": "code",
      "metadata": {
        "id": "20RsLJDpWb3W"
      },
      "source": [
        "# !pip install requests"
      ],
      "execution_count": null,
      "outputs": []
    },
    {
      "cell_type": "code",
      "metadata": {
        "id": "hZuvE2KTWnU5"
      },
      "source": [
        "data = requests.get(url)"
      ],
      "execution_count": null,
      "outputs": []
    },
    {
      "cell_type": "code",
      "metadata": {
        "colab": {
          "base_uri": "https://localhost:8080/"
        },
        "id": "Gro5CPDrXB20",
        "outputId": "c214a1d5-92e3-4350-b339-987179a50e3e"
      },
      "source": [
        "print(data.content)"
      ],
      "execution_count": null,
      "outputs": [
        {
          "output_type": "stream",
          "text": [
            "b'<!DOCTYPE html>\\n<html class=\"no-js\" dir=\"ltr\" lang=\"en-US\">\\n    <head>\\n        <title>Inspirational Quotes - Motivational Quotes - Leadership Quotes | Page 2 | PassItOn.com</title>\\n        <meta charset=\"utf-8\">\\n        <meta http-equiv=\"content-type\" content=\"text/html; charset=utf-8\" />\\n        <meta http-equiv=\"X-UA-Compatible\" content=\"IE=edge\" />\\n        <meta name=\"viewport\" content=\"width=device-width,initial-scale=1.0,maximum-scale=1\" />\\n        <meta name=\"description\" content=\"The Foundation for a Better Life | Pass It On.com\">\\n        <link rel=\"apple-touch-icon\" sizes=\"180x180\" href=\"/apple-touch-icon.png\">\\n        <link rel=\"icon\" type=\"image/png\" sizes=\"32x32\" href=\"/favicon-32x32.png\">\\n        <link rel=\"icon\" type=\"image/png\" sizes=\"16x16\" href=\"/favicon-16x16.png\">\\n        <link rel=\"manifest\" href=\"/site.webmanifest\">\\n        <link rel=\"mask-icon\" href=\"/safari-pinned-tab.svg\" color=\"#c8102e\">\\n        <meta name=\"msapplication-TileColor\" content=\"#c8102e\">\\n        <meta name=\"theme-color\" content=\"#ffffff\">\\n        <link rel=\"stylesheet\" href=\"https://stackpath.bootstrapcdn.com/bootstrap/4.3.1/css/bootstrap.min.css\" integrity=\"sha384-ggOyR0iXCbMQv3Xipma34MD+dH/1fQ784/j6cY/iJTQUOhcWr7x9JvoRxT2MZw1T\" crossorigin=\"anonymous\">\\n        <link rel=\"stylesheet\" media=\"all\" href=\"/assets/application-17303292e1728a1435f12472f3b4160c.css\" />\\n        <meta name=\"csrf-param\" content=\"authenticity_token\" />\\n<meta name=\"csrf-token\" content=\"7QOzP+i2UBsTEHbJDmQbPRvIgPlQuWlFB2s07LUIiPTcv7UaghAcNEiNthqH4lFx78oiuuHrzu2yXVWSfBwrng==\" />\\n        <!-- Global site tag (gtag.js) - Google Analytics -->\\n        <script async src=\"https://www.googletagmanager.com/gtag/js?id=UA-1179606-29\"></script>\\n        <script>\\n          window.dataLayer = window.dataLayer || [];\\n          function gtag(){dataLayer.push(arguments);}\\n          gtag(\\'js\\', new Date());\\n          gtag(\\'config\\', \\'UA-1179606-29\\');\\n        </script>\\n\\n        <script>\\n          window.fbAsyncInit = function() {\\n            FB.init({\\n              appId            : \\'483774921971842\\',\\n              autoLogAppEvents : true,\\n              xfbml            : true,\\n              version          : \\'v6.0\\'\\n            });\\n          };\\n        </script>\\n        <script async defer src=\"https://connect.facebook.net/en_US/sdk.js\"></script>\\n\\n        <meta property=\"og:site_name\" content=\"passiton.com\">\\n        <meta property=\"og:title\" content=\"Inspirational Quotes - Motivational Quotes - Leadership Quotes | Page 2\" />\\n        <meta property=\"og:type\" content=\"website\" />\\n        <meta property=\"og:image\" content=\"https://www.passiton.com/passiton.jpg\" />\\n        <meta property=\"og:url\" content=\"https://www.passiton.com/inspirational-quotes?page=2\" />\\n        <meta property=\"og:description\" content=\"Find the perfect quotation from our hand-picked collection of inspiring quotes by hundreds of authors. | Page 2\" />\\n        <meta property=\"fb:app_id\" content=\"483774921971842\" />\\n\\n        <meta name=\"twitter:card\" content=\"summary_large_image\" />\\n        <meta name=\"twitter:site\" content=\"@passiton\" />\\n        <meta name=\"twitter:creator\" content=\"@passiton\">\\n        <meta name=\"twitter:title\" content=\"Inspirational Quotes - Motivational Quotes - Leadership Quotes | Page 2\" />\\n        <meta name=\"twitter:description\" content=\"Find the perfect quotation from our hand-picked collection of inspiring quotes by hundreds of authors. | Page 2\" />\\n        <meta name=\"twitter:image\" content=\"https://www.passiton.com/passiton.jpg\" />\\n        <meta name=\"twitter:url\" content=\"https://www.passiton.com/inspirational-quotes?page=2\" />\\n\\n        <meta itemprop=\"name\" content=\"passiton.com\">\\n        <meta itemprop=\"description\" content=\"Find the perfect quotation from our hand-picked collection of inspiring quotes by hundreds of authors. | Page 2\">\\n        <meta itemprop=\"image\" content=\"https://www.passiton.com/passiton.jpg\">\\n\\n        <link rel=\"apple-touch-icon\" sizes=\"180x180\" href=\"/apple-touch-icon.png\">\\n        <link rel=\"icon\" type=\"image/png\" sizes=\"32x32\" href=\"/favicon-32x32.png\">\\n        <link rel=\"icon\" type=\"image/png\" sizes=\"16x16\" href=\"/favicon-16x16.png\">\\n        <link rel=\"mask-icon\" href=\"/passiton_arrow.svg\" color=\"#C8102E\">\\n        <link rel=\"manifest\" href=\"/manifest.json\">\\n        <link rel=\"mask-icon\" href=\"/safari-pinned-tab.svg\" color=\"#5bbad5\">\\n        <meta name=\"apple-mobile-web-app-title\" content=\"passiton\">\\n        <meta name=\"application-name\" content=\"passiton\">\\n        <meta name=\"theme-color\" content=\"#f1f1f1\">\\n        \\n    </head>\\n    <body class=\\'no-transition quotes_index\\'>\\n        <header>\\n    <nav class=\"navbar navbar-default bootsnav navbar-fixed-top header-dark white-link background-transparent nav-box-width white-link navbar-expand-lg\">\\n        <div class=\"container-fluid nav-header-container\">\\n            <div class=\"col-auto pl-0\">\\n\\n                    <a class=\"logo\" title=\"Pass It On\\xc2\\xae\" href=\"/\"><img data-rjs=\"/assets/site/logo@2x-77b9f4fa1e4bafa6ff119f8f162b7bd9.png\" class=\"logo-dark\" alt=\"Pass It On\" src=\"/assets/site/logo-6d680decaadef58e4fbb586e147bc135.png\" /><img data-rjs=\"/assets/site/logo-white@2x-82bf2486063a48e9207811cc7f6d5e5f.png\" class=\"logo-light default\" alt=\"Pass It On\" src=\"/assets/site/logo-white-2d99f390ad2f6d3bbf59a52aadb55d60.png\" /></a>\\n\\n            </div>\\n            <div class=\"col accordion-menu pr-0 pr-md-3\">\\n                <button type=\"button\" class=\"navbar-toggler collapsed\" data-toggle=\"collapse\" data-target=\"#navbar-collapse-toggle-1\">\\n                    <span class=\"sr-only\">toggle navigation</span>\\n                    <span class=\"icon-bar\"></span>\\n                    <span class=\"icon-bar\"></span>\\n                    <span class=\"icon-bar\"></span>\\n                </button>\\n                <div class=\"navbar-collapse collapse justify-content-end\" id=\"navbar-collapse-toggle-1\">\\n                    <ul id=\"accordion\" class=\"nav navbar-nav no-margin alt-font text-normal\" data-in=\"fadeIn\" data-out=\"fadeOut\">\\n                        <li><a href=\"/inspirational-quotes\">Quotes</a></li>\\n                        <li><a href=\"/inspirational-stories-tv-spots\">Videos</a></li>\\n                        <li class=\"dropdown simple-dropdown\"><a href=\"/inspirational-sayings-billboards\">Billboards <i class=\\'fas fa-angle-down dropdown-toggle\\' data-toggle=\\'dropdown\\' aria-hidden=\\'true\\'></i></a>\\n                            <ul class=\"dropdown-menu\" role=\"menu\">\\n                                <li><a href=\"/inspirational-sayings-billboards\">Official Billboards</a>\\n                                <li><a href=\"/is-in-you\">Is In You\\xc2\\xae Billboards</a>\\n                                <li><a href=\"/your-billboards\">Create Your Own Billboard</a>\\n                            </ul>\\n                        </li>\\n                        <li><a href=\"/radio\">Radio Ads</a></li>\\n                        <li><a href=\"/passiton-blog\">Blog</a></li>\\n                        <li class=\"dropdown simple-dropdown\"><a href=\"#\">Language <i class=\"fas fa-angle-down dropdown-toggle\" data-toggle=\"dropdown\" aria-hidden=\"true\"></i></a>\\n                            <ul class=\"dropdown-menu\" role=\"menu\">\\n                                <li><a target=\"_blank\" href=\"https://www.pasala.org/\">Spanish | Espa\\xc3\\xb1ol</a>\\n                                <li><a target=\"_blank\" href=\"https://www.umavidamelhor.org/\">Portuguese | Portugu\\xc3\\xaas</a>\\n                                <li><a target=\"_blank\" href=\"https://www.values.cn.com/\">Chinese | \\xe4\\xb8\\xad\\xe6\\x96\\x87</a>\\n                            </ul>\\n                        </li>\\n                    </ul>\\n                </div>\\n            </div>\\n            <div class=\"col-auto pr-0\">\\n                <div class=\"header-searchbar\">\\n                    <a href=\"#search-header\" class=\"header-search-form\"><i class=\"fas fa-search search-button\"></i></a>\\n                    <form id=\"search-header\" method=\"post\" action=\"/search\" name=\"search-header\" class=\"mfp-hide search-form-result\">\\n                        <div class=\"search-form position-relative\">\\n                            <button type=\"submit\" class=\"fas fa-search close-search search-button\"></button>\\n                            <input type=\"text\" name=\"q\" class=\"search-input\" placeholder=\"Search passiton.com...\" autocomplete=\"off\">\\n                        </div>\\n                    </form>\\n                </div>\\n                <div class=\"header-social-icon d-none d-md-inline-block\">\\n                    <a href=\"https://www.facebook.com/valuescom\" title=\"Facebook\" target=\"_blank\"><i class=\"fab fa-facebook-f\" aria-hidden=\"true\"></i></a>\\n                    <a href=\"https://twitter.com/passiton_values\" title=\"Twitter\" target=\"_blank\"><i class=\"fab fa-twitter\"></i></a>\\n                    <a href=\"https://www.instagram.com/passiton_values/\" title=\"Instagram\" target=\"_blank\"><i class=\"fab fa-instagram\" aria-hidden=\"true\"></i></a>\\n                    <a href=\"https://www.pinterest.com/passiton_values/\" title=\"Pinterest\" target=\"_blank\"><i class=\"fab fa-pinterest\" aria-hidden=\"true\"></i></a>\\n                    <a href=\"https://www.youtube.com/c/passiton_values\" title=\"YouTube\" target=\"_blank\"><i class=\"fab fa-youtube no-margin-right\" aria-hidden=\"true\"></i></a>\\n                </div>\\n            </div>\\n        </div>\\n    </nav>\\n</header>\\n        \\n\\n    <section class=\"parallax padding-six-all bg-black\" data-stellar-background-ratio=\"0.2\" style=\"background-image:url(\\'/assets/backgrounds/flowers-8d19415bc3bc371f5beaed468d9a1970.jpg\\');\">\\n        <div class=\"container\">\\n            <div class=\"row justify-content-center\">\\n                <div class=\"col-12 col-lg-10 text-center\">\\n                    <div class=\"shadow bg-extra-dark-gray padding-two-all border-radius-6 width-70 lg-width-80 sm-width-100 mx-auto lg-padding-30px-all sm-padding-15px-all sm-margin-40px-top\">\\n                        <h6 class=\"font-weight-300 text-white-2 margin-20px-bottom sm-margin-15px-bottom\">Get our FREE daily quote emails!</h6>\\n                        <p class=\"text-medium width-70 mx-auto margin-40px-bottom sm-width-100 sm-margin-15px-bottom\">Get a daily inspirational quote in your inbox each weekday! Enter your email below to subscribe.</p>\\n\\n                        <form class=\"simple_form search-box3 margin-10px-bottom\" novalidate=\"novalidate\" id=\"new_user\" action=\"/users\" accept-charset=\"UTF-8\" method=\"post\"><input name=\"utf8\" type=\"hidden\" value=\"&#x2713;\" /><input type=\"hidden\" name=\"authenticity_token\" value=\"sYZuG/agjh8a7FOkNj4hRAfvvMszYhduoQ+XFZG16ZmAOmg+nAbCMEFxk3e/uGsI8+0eiIIwsMYUOfZrWKFK8w==\" />\\n                            <div class=\"input-group add-on width-75 mx-auto sm-width-100\">\\n                                <input label=\"false\" class=\"string email optional form-control text-white\" type=\"text\" placeholder=\"you@your-email.com\" name=\"user[email]\" id=\"user_email\" />\\n                                <script src=\"https://www.recaptcha.net/recaptcha/api.js?render=6Ldta8EUAAAAACp3yt76yG8QWMdQkpDBkP1bcHi6\"   ></script>\\n        <script>\\n          // Define function so that we can call it again later if we need to reset it\\n          // This executes reCAPTCHA and then calls our callback.\\n          function executeRecaptchaForQuote() {\\n            grecaptcha.ready(function() {\\n              grecaptcha.execute(\\'6Ldta8EUAAAAACp3yt76yG8QWMdQkpDBkP1bcHi6\\', {action: \\'quote\\'}).then(function(token) {\\n                setInputWithRecaptchaResponseTokenForQuote(\\'g-recaptcha-response-data-quote\\', token)\\n              });\\n            });\\n          };\\n          // Invoke immediately\\n          executeRecaptchaForQuote()\\n\\n          // Async variant so you can await this function from another async function (no need for\\n          // an explicit callback function then!)\\n          // Returns a Promise that resolves with the response token.\\n          async function executeRecaptchaForQuoteAsync() {\\n            return new Promise((resolve, reject) => {\\n              grecaptcha.ready(async function() {\\n                resolve(await grecaptcha.execute(\\'6Ldta8EUAAAAACp3yt76yG8QWMdQkpDBkP1bcHi6\\', {action: \\'quote\\'}))\\n              });\\n            })\\n          };\\n\\n                    var setInputWithRecaptchaResponseTokenForQuote = function(id, token) {\\n            var element = document.getElementById(id);\\n            element.value = token;\\n          }\\n\\n        </script>\\n<input type=\"hidden\" name=\"g-recaptcha-response-data[quote]\" id=\"g-recaptcha-response-data-quote\" data-sitekey=\"6Ldta8EUAAAAACp3yt76yG8QWMdQkpDBkP1bcHi6\" class=\"g-recaptcha g-recaptcha-response \"/>\\n\\n                                <div class=\"input-group-append\">\\n                                    <button type=\"submit\" class=\"btn btn-default\"><i class=\"ti-arrow-right text-small m-0\"></i></button>\\n                                </div>\\n                            </div>\\n</form>\\n\\n                    </div>\\n                </div>\\n            </div>\\n        </div>\\n    </section>\\n\\n\\n<section class=\"half-section bg-extra-dark-gray half-section\">\\n    <div class=\"container\">\\n\\n        <div class=\"row m-0\">\\n            <div class=\"col-12 d-flex flex-column justify-content-center text-center wow fadeIn\" data-wow-delay=\"0.2s\">\\n                <h5 class=\"text-white alt-font font-weight-400 letter-spacing-1 margin-10px-bottom\">INSPIRATIONAL QUOTES</h5>\\n                <span class=\"text-white-2 opacity8 alt-font mb-0 padding-20px-bottom\">Find the perfect quote... and Pass It On\\xc2\\xae</span>\\n\\n                <form class=\"search-box2 margin-30px-bottom\" action=\"/inspirational-quotes\" method=\"get\">\\n                    <div class=\"input-group add-on width-75 mx-auto sm-width-100\">\\n                        <input name=\"q\" type=\"text\" value=\\'\\' placeholder=\"Search our inspiring quotes...\" class=\"form-control\" />\\n                        <div class=\"input-group-append\">\\n                            <button type=\"submit\" class=\"btn btn-default\"><i class=\"ti-search text-small m-0\"></i></button>\\n                        </div>\\n                    </div>\\n                </form>\\n\\n            </div>\\n        </div>\\n\\n        <div class=\\'row\\' id=\\'all_quotes\\'>\\n            <div class=\"col-6 col-lg-3 text-center margin-30px-bottom sm-margin-30px-top\">\\n\\n        <a href=\"/inspirational-quotes/8162-the-big-challenge-is-to-become-all-that-you\"><img alt=\"The big challenge is to become all that you have the possibility of becoming. #&lt;Author:0x00007ffb77118ee0&gt;\" class=\"margin-10px-bottom shadow\" src=\"https://assets.passiton.com/quotes/quote_artwork/8162/medium/20201202_wednesday_quote_alternate.jpg?1606330699\" width=\"310\" height=\"310\" /></a>\\n        <h5 class=\\'value_on_red\\'><a href=\"/inspirational-quotes/8162-the-big-challenge-is-to-become-all-that-you\">BELIEVE IN YOURSELF</a></h5>\\n\\n</div><div class=\"col-6 col-lg-3 text-center margin-30px-bottom sm-margin-30px-top\">\\n\\n        <a href=\"/inspirational-quotes/8161-just-remember-when-it-comes-to-your-life-you\"><img alt=\"Just remember, when it comes to your life, you are not only the artist but the masterpiece, as well.  #&lt;Author:0x00007ffb771448d8&gt;\" class=\"margin-10px-bottom shadow\" src=\"https://assets.passiton.com/quotes/quote_artwork/8161/medium/20201201_tuesday_quote.jpg?1606327529\" width=\"310\" height=\"310\" /></a>\\n        <h5 class=\\'value_on_red\\'><a href=\"/inspirational-quotes/8161-just-remember-when-it-comes-to-your-life-you\">BELIEVE IN YOURSELF</a></h5>\\n\\n</div><div class=\"col-6 col-lg-3 text-center margin-30px-bottom sm-margin-30px-top\">\\n\\n        <a href=\"/inspirational-quotes/6545-believe-in-yourself-and-all-that-you-are-know\"><img alt=\"Believe in yourself and all that you are. Know that there is something inside you that is greater than any obstacle. #&lt;Author:0x00007ffb771f98c8&gt;\" class=\"margin-10px-bottom shadow\" src=\"https://assets.passiton.com/quotes/quote_artwork/6545/medium/20201130_monday_quote.jpg?1606327504\" width=\"310\" height=\"310\" /></a>\\n        <h5 class=\\'value_on_red\\'><a href=\"/inspirational-quotes/6545-believe-in-yourself-and-all-that-you-are-know\">BELIEVE IN YOURSELF</a></h5>\\n\\n</div><div class=\"col-6 col-lg-3 text-center margin-30px-bottom sm-margin-30px-top\">\\n\\n        <a href=\"/inspirational-quotes/4614-when-i-started-counting-my-blessings-my-whole\"><img alt=\"When I started counting my blessings, my whole life turned around. #&lt;Author:0x00007ffb77236a48&gt;\" class=\"margin-10px-bottom shadow\" src=\"https://assets.passiton.com/quotes/quote_artwork/4614/medium/20201127_friday_quote.jpg?1605830558\" width=\"310\" height=\"310\" /></a>\\n        <h5 class=\\'value_on_red\\'><a href=\"/inspirational-quotes/4614-when-i-started-counting-my-blessings-my-whole\">GRATITUDE</a></h5>\\n\\n</div><div class=\"col-6 col-lg-3 text-center margin-30px-bottom sm-margin-30px-top\">\\n\\n        <a href=\"/inspirational-quotes/8160-gratitude-unlocks-the-fullness-of-life-it\"><img alt=\"Gratitude unlocks the fullness of life. It turns what we have into enough, and more. #&lt;Author:0x00007ffb7726eab0&gt;\" class=\"margin-10px-bottom shadow\" src=\"https://assets.passiton.com/quotes/quote_artwork/8160/medium/20201126_thursday_quotex.jpg?1605895593\" width=\"310\" height=\"310\" /></a>\\n        <h5 class=\\'value_on_red\\'><a href=\"/inspirational-quotes/8160-gratitude-unlocks-the-fullness-of-life-it\">GRATITUDE</a></h5>\\n\\n</div><div class=\"col-6 col-lg-3 text-center margin-30px-bottom sm-margin-30px-top\">\\n\\n        <a href=\"/inspirational-quotes/8159-gratitude-is-a-powerful-catalyst-for-happiness\"><img alt=\"Gratitude is a powerful catalyst for happiness. It\\xe2\\x80\\x99s the spark that lights a fire of joy in your soul.  #&lt;Author:0x00007ffb77299710&gt;\" class=\"margin-10px-bottom shadow\" src=\"https://assets.passiton.com/quotes/quote_artwork/8159/medium/20201125_wednesday_quote.jpg?1605830510\" width=\"310\" height=\"310\" /></a>\\n        <h5 class=\\'value_on_red\\'><a href=\"/inspirational-quotes/8159-gratitude-is-a-powerful-catalyst-for-happiness\">GRATITUDE</a></h5>\\n\\n</div><div class=\"col-6 col-lg-3 text-center margin-30px-bottom sm-margin-30px-top\">\\n\\n        <a href=\"/inspirational-quotes/3040-thankfulness-is-the-beginning-of-gratitude\"><img alt=\"Thankfulness is the beginning of gratitude. #&lt;Author:0x00007ffb772d5b70&gt;\" class=\"margin-10px-bottom shadow\" src=\"https://assets.passiton.com/quotes/quote_artwork/3040/medium/20201124_tuesday_quotex.jpg?1605895562\" width=\"310\" height=\"310\" /></a>\\n        <h5 class=\\'value_on_red\\'><a href=\"/inspirational-quotes/3040-thankfulness-is-the-beginning-of-gratitude\">GRATITUDE</a></h5>\\n\\n</div><div class=\"col-6 col-lg-3 text-center margin-30px-bottom sm-margin-30px-top\">\\n\\n        <a href=\"/inspirational-quotes/8157-start-each-day-with-a-positive-thought-and-a\"><img alt=\"Start each day with a positive thought and a grateful heart. #&lt;Author:0x00007ffb7730e1a0&gt;\" class=\"margin-10px-bottom shadow\" src=\"https://assets.passiton.com/quotes/quote_artwork/8157/medium/20201123_monday_quote.jpg?1605830150\" width=\"310\" height=\"310\" /></a>\\n        <h5 class=\\'value_on_red\\'><a href=\"/inspirational-quotes/8157-start-each-day-with-a-positive-thought-and-a\">GRATITUDE</a></h5>\\n\\n</div><div class=\"col-6 col-lg-3 text-center margin-30px-bottom sm-margin-30px-top\">\\n\\n        <a href=\"/inspirational-quotes/7656-we-are-made-to-persist-thats-how-we-find-out\"><img alt=\"We are made to persist. That&#39;s how we find out who we are. #&lt;Author:0x00007ffb773e9138&gt;\" class=\"margin-10px-bottom shadow\" src=\"https://assets.passiton.com/quotes/quote_artwork/7656/medium/20201118_wednesday_quote.jpg?1605289394\" width=\"310\" height=\"310\" /></a>\\n        <h5 class=\\'value_on_red\\'><a href=\"/inspirational-quotes/7656-we-are-made-to-persist-thats-how-we-find-out\">PERSISTENCE</a></h5>\\n\\n</div><div class=\"col-6 col-lg-3 text-center margin-30px-bottom sm-margin-30px-top\">\\n\\n        <a href=\"/inspirational-quotes/6248-this-i-do-know-beyond-any-reasonable-doubt\"><img alt=\"This I do know beyond any reasonable doubt. Regardless of what you are doing, if you pump long enough, hard enough and enthusiastically enough, sooner or later the effort will bring forth the reward. #&lt;Author:0x00007ffb7740fdd8&gt;\" class=\"margin-10px-bottom shadow\" src=\"https://assets.passiton.com/quotes/quote_artwork/6248/medium/20201119_thursday_quote.jpg?1605289417\" width=\"310\" height=\"310\" /></a>\\n        <h5 class=\\'value_on_red\\'><a href=\"/inspirational-quotes/6248-this-i-do-know-beyond-any-reasonable-doubt\">PERSISTENCE</a></h5>\\n\\n</div><div class=\"col-6 col-lg-3 text-center margin-30px-bottom sm-margin-30px-top\">\\n\\n        <a href=\"/inspirational-quotes/5136-consider-the-postage-stamp-its-usefulness\"><img alt=\"Consider the postage stamp: its usefulness consists in the ability to stick to one thing till it gets there. #&lt;Author:0x00007ffb774397a0&gt;\" class=\"margin-10px-bottom shadow\" src=\"https://assets.passiton.com/quotes/quote_artwork/5136/medium/20201120_friday_quote.jpg?1605289442\" width=\"310\" height=\"310\" /></a>\\n        <h5 class=\\'value_on_red\\'><a href=\"/inspirational-quotes/5136-consider-the-postage-stamp-its-usefulness\">PERSISTENCE</a></h5>\\n\\n</div><div class=\"col-6 col-lg-3 text-center margin-30px-bottom sm-margin-30px-top\">\\n\\n        <a href=\"/inspirational-quotes/8156-the-most-essential-factor-is-persistence-the\"><img alt=\"The most essential factor is persistence\\xe2\\x80\\x94the determination never to allow your energy or enthusiasm to be dampened by discouragement. #&lt;Author:0x00007ffb7746ae90&gt;\" class=\"margin-10px-bottom shadow\" src=\"https://assets.passiton.com/quotes/quote_artwork/8156/medium/20201117_tuesday_quote.jpg?1605289355\" width=\"310\" height=\"310\" /></a>\\n        <h5 class=\\'value_on_red\\'><a href=\"/inspirational-quotes/8156-the-most-essential-factor-is-persistence-the\">PERSISTENCE</a></h5>\\n\\n</div><div class=\"col-6 col-lg-3 text-center margin-30px-bottom sm-margin-30px-top\">\\n\\n        <a href=\"/inspirational-quotes/7917-persistence-can-change-failure-into\"><img alt=\"Persistence can change failure into extraordinary achievement. #&lt;Author:0x00007ffb7748f768&gt;\" class=\"margin-10px-bottom shadow\" src=\"https://assets.passiton.com/quotes/quote_artwork/7917/medium/20201116_monday_quote.jpg?1605289330\" width=\"310\" height=\"310\" /></a>\\n        <h5 class=\\'value_on_red\\'><a href=\"/inspirational-quotes/7917-persistence-can-change-failure-into\">PERSISTENCE</a></h5>\\n\\n</div><div class=\"col-6 col-lg-3 text-center margin-30px-bottom sm-margin-30px-top\">\\n\\n        <a href=\"/inspirational-quotes/8155-hope-sees-the-invisible-feels-the-intangible\"><img alt=\"Hope sees the invisible, feels the intangible, and achieves the impossible. #&lt;Author:0x00007ffb774e9ba0&gt;\" class=\"margin-10px-bottom shadow\" src=\"https://assets.passiton.com/quotes/quote_artwork/8155/medium/20201113_friday_quote.jpg?1604688356\" width=\"310\" height=\"310\" /></a>\\n        <h5 class=\\'value_on_red\\'><a href=\"/inspirational-quotes/8155-hope-sees-the-invisible-feels-the-intangible\">HOPE</a></h5>\\n\\n</div><div class=\"col-6 col-lg-3 text-center margin-30px-bottom sm-margin-30px-top\">\\n\\n        <a href=\"/inspirational-quotes/4624-where-hope-grows-miracles-blossom\"><img alt=\"Where hope grows, miracles blossom. #&lt;Author:0x00007ffb774fcc50&gt;\" class=\"margin-10px-bottom shadow\" src=\"https://assets.passiton.com/quotes/quote_artwork/4624/medium/20201112_thursday_quote.jpg?1604688335\" width=\"310\" height=\"310\" /></a>\\n        <h5 class=\\'value_on_red\\'><a href=\"/inspirational-quotes/4624-where-hope-grows-miracles-blossom\">HOPE</a></h5>\\n\\n</div><div class=\"col-6 col-lg-3 text-center margin-30px-bottom sm-margin-30px-top\">\\n\\n        <a href=\"/inspirational-quotes/8154-this-new-day-is-too-dear-with-its-hopes-and\"><img alt=\"This new day is too dear, with its hopes and invitations, to waste a moment on the yesterdays. #&lt;Author:0x00007ffb77535b90&gt;\" class=\"margin-10px-bottom shadow\" src=\"https://assets.passiton.com/quotes/quote_artwork/8154/medium/20201111_wednesday_quote.jpg?1604688314\" width=\"310\" height=\"310\" /></a>\\n        <h5 class=\\'value_on_red\\'><a href=\"/inspirational-quotes/8154-this-new-day-is-too-dear-with-its-hopes-and\">HOPE</a></h5>\\n\\n</div><div class=\"col-6 col-lg-3 text-center margin-30px-bottom sm-margin-30px-top\">\\n\\n        <a href=\"/inspirational-quotes/8018-our-human-compassion-binds-us-the-one-to-the\"><img alt=\"Our human compassion binds us the one to the other - not in pity or patronizingly, but as human beings who have learnt how to turn our common suffering into hope for the future. #&lt;Author:0x00007ffb7756d310&gt;\" class=\"margin-10px-bottom shadow\" src=\"https://assets.passiton.com/quotes/quote_artwork/8018/medium/20201109_monday_quote.jpg?1604688266\" width=\"310\" height=\"310\" /></a>\\n        <h5 class=\\'value_on_red\\'><a href=\"/inspirational-quotes/8018-our-human-compassion-binds-us-the-one-to-the\">HOPE</a></h5>\\n\\n</div><div class=\"col-6 col-lg-3 text-center margin-30px-bottom sm-margin-30px-top\">\\n\\n        <a href=\"/inspirational-quotes/8153-hope-is-a-passion-for-the-possible\"><img alt=\"Hope is a passion for the possible.  #&lt;Author:0x00007ffb77598f60&gt;\" class=\"margin-10px-bottom shadow\" src=\"https://assets.passiton.com/quotes/quote_artwork/8153/medium/20201110_tuesday_quote.jpg?1604688288\" width=\"310\" height=\"310\" /></a>\\n        <h5 class=\\'value_on_red\\'><a href=\"/inspirational-quotes/8153-hope-is-a-passion-for-the-possible\">HOPE</a></h5>\\n\\n</div><div class=\"col-6 col-lg-3 text-center margin-30px-bottom sm-margin-30px-top\">\\n\\n        <a href=\"/inspirational-quotes/8151-make-living-your-life-with-absolute-integrity\"><img alt=\"Make living your life with absolute integrity and kindness your first priority. #&lt;Author:0x00007ffb775d0960&gt;\" class=\"margin-10px-bottom shadow\" src=\"https://assets.passiton.com/quotes/quote_artwork/8151/medium/20201106_friday_quote.jpg?1604081299\" width=\"310\" height=\"310\" /></a>\\n        <h5 class=\\'value_on_red\\'><a href=\"/inspirational-quotes/8151-make-living-your-life-with-absolute-integrity\">CIVILITY</a></h5>\\n\\n</div><div class=\"col-6 col-lg-3 text-center margin-30px-bottom sm-margin-30px-top\">\\n\\n        <a href=\"/inspirational-quotes/7715-practice-civility-toward-one-another-admire\"><img alt=\"Practice civility toward one another. Admire and emulate ethical behavior wherever you find it. Apply a rigid standard of morality to your lives; and if, periodically, you fail as you surely will, \\xc2\\xadadjust your lives, not the standards.  #&lt;Author:0x00007ffb77609288&gt;\" class=\"margin-10px-bottom shadow\" src=\"https://assets.passiton.com/quotes/quote_artwork/7715/medium/20201105_thursday_quote.jpg?1604081275\" width=\"310\" height=\"310\" /></a>\\n        <h5 class=\\'value_on_red\\'><a href=\"/inspirational-quotes/7715-practice-civility-toward-one-another-admire\">CIVILITY</a></h5>\\n\\n</div><div class=\"col-6 col-lg-3 text-center margin-30px-bottom sm-margin-30px-top\">\\n\\n        <a href=\"/inspirational-quotes/8152-dont-ever-forget-that-youre-a-citizen-of-this\"><img alt=\"Don&#39;t ever forget that you&#39;re a citizen of this world, and there are things you can do to lift the human spirit, things that are easy, things that are free, things that you can do every day: civility, respect, kindness, character. #&lt;Author:0x00007ffb7764b098&gt;\" class=\"margin-10px-bottom shadow\" src=\"https://assets.passiton.com/quotes/quote_artwork/8152/medium/20201104_wednesday_quote.jpg?1604081252\" width=\"310\" height=\"310\" /></a>\\n        <h5 class=\\'value_on_red\\'><a href=\"/inspirational-quotes/8152-dont-ever-forget-that-youre-a-citizen-of-this\">CIVILITY</a></h5>\\n\\n</div><div class=\"col-6 col-lg-3 text-center margin-30px-bottom sm-margin-30px-top\">\\n\\n        <a href=\"/inspirational-quotes/7711-civility-is-the-art-and-act-of-caring-for-others\"><img alt=\"Civility is the art and act of caring for others. #&lt;Author:0x00007ffb77676ec8&gt;\" class=\"margin-10px-bottom shadow\" src=\"https://assets.passiton.com/quotes/quote_artwork/7711/medium/20201103_tuesday_quote.jpg?1604081224\" width=\"310\" height=\"310\" /></a>\\n        <h5 class=\\'value_on_red\\'><a href=\"/inspirational-quotes/7711-civility-is-the-art-and-act-of-caring-for-others\">CIVILITY</a></h5>\\n\\n</div><div class=\"col-6 col-lg-3 text-center margin-30px-bottom sm-margin-30px-top\">\\n\\n        <a href=\"/inspirational-quotes/7712-genuine-tolerance-does-not-mean-ignoring\"><img alt=\"Genuine tolerance does not mean ignoring differences as if differences made no difference. Genuine tolerance means engaging differences within a bond of civility and respect. #&lt;Author:0x00007ffb776a8720&gt;\" class=\"margin-10px-bottom shadow\" src=\"https://assets.passiton.com/quotes/quote_artwork/7712/medium/20201102_monday_quote.jpg?1604081195\" width=\"310\" height=\"310\" /></a>\\n        <h5 class=\\'value_on_red\\'><a href=\"/inspirational-quotes/7712-genuine-tolerance-does-not-mean-ignoring\">CIVILITY</a></h5>\\n\\n</div><div class=\"col-6 col-lg-3 text-center margin-30px-bottom sm-margin-30px-top\">\\n\\n        <a href=\"/inspirational-quotes/3493-you-must-be-the-change-you-wish-to-see-in-the\"><img alt=\"You must be the change you wish to see in the world. #&lt;Author:0x00007ffb776e0f80&gt;\" class=\"margin-10px-bottom shadow\" src=\"https://assets.passiton.com/quotes/quote_artwork/3493/medium/20201030_friday_quote.jpg?1603383782\" width=\"310\" height=\"310\" /></a>\\n        <h5 class=\\'value_on_red\\'><a href=\"/inspirational-quotes/3493-you-must-be-the-change-you-wish-to-see-in-the\">MAKING A DIFFERENCE</a></h5>\\n\\n</div><div class=\"col-6 col-lg-3 text-center margin-30px-bottom sm-margin-30px-top\">\\n\\n        <a href=\"/inspirational-quotes/8150-but-where-was-i-to-start-the-world-is-so-vast\"><img alt=\"But where was I to start? The world is so vast, I shall start with the country I know best, my own. But my country is so very large. I had better start with my town. But my town too, is large. I had best start with my street. No: my home. No: my family. Never mind, I shall start with myself. #&lt;Author:0x00007ffb77719088&gt;\" class=\"margin-10px-bottom shadow\" src=\"https://assets.passiton.com/quotes/quote_artwork/8150/medium/20201029_thursday_quote.jpg?1603383758\" width=\"310\" height=\"310\" /></a>\\n        <h5 class=\\'value_on_red\\'><a href=\"/inspirational-quotes/8150-but-where-was-i-to-start-the-world-is-so-vast\">MAKING A DIFFERENCE</a></h5>\\n\\n</div><div class=\"col-6 col-lg-3 text-center margin-30px-bottom sm-margin-30px-top\">\\n\\n        <a href=\"/inspirational-quotes/8149-each-one-of-us-can-make-a-difference-together\"><img alt=\"Each one of us can make a difference. Together we make a change. #&lt;Author:0x00007ffb7774c640&gt;\" class=\"margin-10px-bottom shadow\" src=\"https://assets.passiton.com/quotes/quote_artwork/8149/medium/20201026_monday_quote.jpg?1603383688\" width=\"310\" height=\"310\" /></a>\\n        <h5 class=\\'value_on_red\\'><a href=\"/inspirational-quotes/8149-each-one-of-us-can-make-a-difference-together\">MAKING A DIFFERENCE</a></h5>\\n\\n</div><div class=\"col-6 col-lg-3 text-center margin-30px-bottom sm-margin-30px-top\">\\n\\n        <a href=\"/inspirational-quotes/4128-in-this-life-we-cannot-always-do-great-things\"><img alt=\"In this life we cannot always do great things. But we can do small things with great love. #&lt;Author:0x00007ffb777815c0&gt;\" class=\"margin-10px-bottom shadow\" src=\"https://assets.passiton.com/quotes/quote_artwork/4128/medium/20201028_wednesday_quote.jpg?1603383733\" width=\"310\" height=\"310\" /></a>\\n        <h5 class=\\'value_on_red\\'><a href=\"/inspirational-quotes/4128-in-this-life-we-cannot-always-do-great-things\">MAKING A DIFFERENCE</a></h5>\\n\\n</div><div class=\"col-6 col-lg-3 text-center margin-30px-bottom sm-margin-30px-top\">\\n\\n        <a href=\"/inspirational-quotes/6826-we-do-not-need-magic-to-transform-our-world-we\"><img alt=\"We do not need magic to transform our world. We carry all the power we need inside ourselves already. We have the power to imagine better. #&lt;Author:0x00007ffb777a4278&gt;\" class=\"margin-10px-bottom shadow\" src=\"https://assets.passiton.com/quotes/quote_artwork/6826/medium/20201027_tuesday_quote.jpg?1603383711\" width=\"310\" height=\"310\" /></a>\\n        <h5 class=\\'value_on_red\\'><a href=\"/inspirational-quotes/6826-we-do-not-need-magic-to-transform-our-world-we\">MAKING A DIFFERENCE</a></h5>\\n\\n</div><div class=\"col-6 col-lg-3 text-center margin-30px-bottom sm-margin-30px-top\">\\n\\n        <a href=\"/inspirational-quotes/3752-the-only-place-success-comes-before-work-is-in\"><img alt=\"The only place success comes before work is in the dictionary. #&lt;Author:0x00007ffb77819348&gt;\" class=\"margin-10px-bottom shadow\" src=\"https://assets.passiton.com/quotes/quote_artwork/3752/medium/20201023_friday_quote_update.jpg?1602883670\" width=\"310\" height=\"310\" /></a>\\n        <h5 class=\\'value_on_red\\'><a href=\"/inspirational-quotes/3752-the-only-place-success-comes-before-work-is-in\">HARD WORK</a></h5>\\n\\n</div><div class=\"col-6 col-lg-3 text-center margin-30px-bottom sm-margin-30px-top\">\\n\\n        <a href=\"/inspirational-quotes/7750-a-dream-doesnt-become-reality-through-magic-it\"><img alt=\"A dream doesn&#39;t become reality through magic; it takes sweat, determination, and hard work. #&lt;Author:0x00007ffb777d0f30&gt;\" class=\"margin-10px-bottom shadow\" src=\"https://assets.passiton.com/quotes/quote_artwork/7750/medium/20201022_thursday_quote_update.jpg?1602883540\" width=\"310\" height=\"310\" /></a>\\n        <h5 class=\\'value_on_red\\'><a href=\"/inspirational-quotes/7750-a-dream-doesnt-become-reality-through-magic-it\">HARD WORK</a></h5>\\n\\n</div><div class=\"col-6 col-lg-3 text-center margin-30px-bottom sm-margin-30px-top\">\\n\\n        <a href=\"/inspirational-quotes/8147-work-hard-at-work-worth-doing\"><img alt=\"Work hard at work worth doing.  #&lt;Author:0x00007ffb77865108&gt;\" class=\"margin-10px-bottom shadow\" src=\"https://assets.passiton.com/quotes/quote_artwork/8147/medium/20201021_wednesday_quote.jpg?1602872491\" width=\"310\" height=\"310\" /></a>\\n        <h5 class=\\'value_on_red\\'><a href=\"/inspirational-quotes/8147-work-hard-at-work-worth-doing\">HARD WORK</a></h5>\\n\\n</div><div class=\"col-6 col-lg-3 text-center margin-30px-bottom sm-margin-30px-top\">\\n\\n        <a href=\"/inspirational-quotes/8146-the-only-limit-to-the-height-of-your\"><img alt=\"The only limit to the height of your achievements is the reach of your dreams and your willingness to work hard for them. #&lt;Author:0x00007ffb77899ac0&gt;\" class=\"margin-10px-bottom shadow\" src=\"https://assets.passiton.com/quotes/quote_artwork/8146/medium/20201020_tuesday_quote.jpg?1602872463\" width=\"310\" height=\"310\" /></a>\\n        <h5 class=\\'value_on_red\\'><a href=\"/inspirational-quotes/8146-the-only-limit-to-the-height-of-your\">HARD WORK</a></h5>\\n\\n</div>\\n        </div>\\n\\n        <div class=\"row\">\\n            <div class=\"col-12 text-center\">\\n                <div class=\"quotes_pagination\"><a class=\"previous_page\" rel=\"prev\" href=\"/inspirational-quotes?page=1\">&#8592; Previous</a> <a rel=\"prev\" href=\"/inspirational-quotes?page=1\">1</a> <em class=\"current\">2</em> <a rel=\"next\" href=\"/inspirational-quotes?page=3\">3</a> <a href=\"/inspirational-quotes?page=4\">4</a> <a href=\"/inspirational-quotes?page=5\">5</a> <a href=\"/inspirational-quotes?page=6\">6</a> <a href=\"/inspirational-quotes?page=7\">7</a> <a href=\"/inspirational-quotes?page=8\">8</a> <a href=\"/inspirational-quotes?page=9\">9</a> <span class=\"gap\">&hellip;</span> <a href=\"/inspirational-quotes?page=119\">119</a> <a href=\"/inspirational-quotes?page=120\">120</a> <a class=\"next_page\" rel=\"next\" href=\"/inspirational-quotes?page=3\">Next &#8594;</a></div>\\n            </div>\\n        </div>\\n\\n    </div>\\n</section>\\n        <footer class=\"footer-classic-dark bg-extra-dark-gray padding-five-bottom sm-padding-30px-bottom\">\\n    <div class=\"bg-dark-footer padding-50px-tb sm-padding-30px-tb\">\\n        <div class=\"container\">\\n            <div class=\"row align-items-center\">\\n\\n                <div class=\"col-lg-4 col-md-5 text-center alt-font sm-margin-15px-bottom\">\\n                    Pass It On<sup>\\xc2\\xae</sup>\\n                </div>\\n\\n                <div class=\"col-lg-4 col-md-2 text-center sm-margin-10px-bottom\">\\n                    <a href=\"/\"><img class=\"footer-logo\" data-rjs=\"/assets/site/fbl_logo-b50da7cb3567063fca4dec74f28f07c4.png\" alt=\"The Foundation for a Better Life\" src=\"/assets/site/fbl_logo-b50da7cb3567063fca4dec74f28f07c4.png\" /></a>\\n                </div>\\n\\n                <div class=\"col-lg-4 col-md-5 text-center\">\\n                    <span class=\"alt-font margin-20px-right\">Follow us on social</span>\\n                    <div class=\"social-icon-style-8 d-inline-block vertical-align-middle\">\\n                        <ul class=\"small-icon mb-0\">\\n                            <li><a class=\"facebook text-white-2\" href=\"https://www.facebook.com/valuescom\" target=\"_blank\"><i class=\"fab fa-facebook-f\" aria-hidden=\"true\"></i></a></li>\\n                            <li><a class=\"twitter text-white-2\" href=\"https://twitter.com/passiton_values\" target=\"_blank\"><i class=\"fab fa-twitter\"></i></a></li>\\n                            <li><a class=\"instagram text-white-2\" href=\"https://www.instagram.com/passiton_values/\" target=\"_blank\"><i class=\"fab fa-instagram no-margin-right\" aria-hidden=\"true\"></i></a></li>\\n                            <li><a class=\"pinterest text-white-2\" href=\"https://www.pinterest.com/passiton_values/\" target=\"_blank\"><i class=\"fab fa-pinterest no-margin-right\" aria-hidden=\"true\"></i></a></li>\\n                            <li><a class=\"youtube text-white-2\" href=\"https://www.youtube.com/c/passiton_values\" target=\"_blank\"><i class=\"fab fa-youtube no-margin-right\" aria-hidden=\"true\"></i></a></li>\\n                        </ul>\\n                    </div>\\n                </div>\\n\\n            </div>\\n        </div>\\n    </div>\\n    <div class=\"footer-widget-area padding-five-top padding-30px-bottom sm-padding-30px-top\">\\n        <div class=\"container\">\\n            <div class=\"row\">\\n\\n                <div class=\"col-lg-3 col-md-6 widget border-right border-color-medium-dark-gray padding-45px-left md-padding-15px-left md-no-border-right md-margin-30px-bottom text-center text-md-left\">\\n                    <div class=\"widget-title alt-font text-small text-medium-gray text-uppercase margin-10px-bottom font-weight-600\">About Us</div>\\n                    <ul class=\"list-unstyled\">\\n                        <li><a class=\"text-small\" href=\"/who-we-are\">About The Foundation for a Better Life</a></li>\\n                        <li><a class=\"text-small\" href=\"/faqs\">FAQs</a></li>\\n                        <li><a class=\"text-small\" href=\"/foundation-recognition\">Foundation Recognition</a></li>\\n                        <li><a class=\"text-small\" href=\"/contact-us\">Contact Us</a></li>\\n                    </ul>\\n                </div>\\n\\n                <div class=\"col-lg-3 col-md-6 widget border-right border-color-medium-dark-gray padding-45px-left md-padding-15px-left md-no-border-right md-margin-30px-bottom text-center text-md-left\">\\n                    <div class=\"widget-title alt-font text-small text-medium-gray text-uppercase margin-10px-bottom font-weight-600\">Be Inspired</div>\\n                    <ul class=\"list-unstyled\">\\n                        <li><a class=\"text-small\" href=\"/teaching-values\">Teaching Values</a></li>\\n                        <li><a class=\"text-small\" href=\"/inspirational-quotes\">Inspirational Quotations</a></li>\\n                        <li><a class=\"text-small\" href=\"/inspirational-stories-tv-spots\">Pass It On\\xc2\\xae Videos</a></li>\\n                        <li><a class=\"text-small\" href=\"/your-everyday-heroes\">Who&#39;s Your Hero Stories</a></li>\\n                        <li><a class=\"text-small\" href=\"/inspirational-sayings-billboards\">Official Billboard Campaign</a></li>\\n                        <li><a class=\"text-small\" href=\"/your-billboards\">Create Your Own Billboard</a></li>\\n                        <li><a class=\"text-small\" href=\"/radio\">Radio Ads</a></li>\\n                        <li><a class=\"text-small\" href=\"/passiton-blog\">Pass It On\\xc2\\xae Blog</a></li>\\n                        <li><a class=\"text-small\" href=\"/inspirational-audio-stories\">Podcasts</a></li>\\n                        <li><a class=\"text-small\" href=\"/pass-it-on-ecards\">Send an Ecard</a></li>\\n                    </ul>\\n                </div>\\n\\n                <div class=\"col-lg-3 col-md-6 widget border-right border-color-medium-dark-gray padding-45px-left md-padding-15px-left md-no-border-right md-margin-30px-bottom text-center text-md-left\">\\n                    <div class=\"widget-title alt-font text-small text-medium-gray text-uppercase margin-10px-bottom font-weight-600\">For Schools</div>\\n                    <ul class=\"list-unstyled\">\\n                        <li><a class=\"text-small\" href=\"/poster-requests/new\">Free Posters &amp; DVD for Schools</a></li>\\n                        <li><a class=\"text-small\" href=\"/pass-it-on-downloads\">Downloads</a></li>\\n                    </ul>\\n                </div>\\n\\n                <div class=\"col-lg-3 col-md-6 widget padding-45px-left md-padding-15px-left md-no-border-right md-margin-30px-bottom text-center text-md-left\">\\n                    <div class=\"widget-title alt-font text-small text-medium-gray text-uppercase margin-10px-bottom font-weight-600\">For Media Companies</div>\\n                    <ul class=\"list-unstyled\">\\n                        <li><a class=\"text-small\" href=\"/for-media-companies\">For Media Companies</a></li>\\n                        <li><a class=\"text-small\" href=\"https://www.passiton-media.com\">Broadcast Quality PSA Downloads</a></li>\\n                        <li><a class=\"text-small\" href=\"https://www.passiton-media.com\">Pass It On Radio Ads</a></li>\\n                        <li><a class=\"text-small\" href=\"https://www.passiton-media.com\">Live Reads</a></li>\\n                        <li><a class=\"text-small\" href=\"https://www.passiton-media.com\">Out of Home Materials</a></li>\\n                    </ul>\\n                    <div class=\\'row sm-margin-30px-top\\'>\\n                        <div class=\\'col-lg-4\\'>\\n                            <a href=\"/\"><img style=\"max-width: 70px;\" src=\"/assets/site/values_logo-cd29ec5f2f086673ac42962263d07e02.png\" alt=\"Values logo\" /></a>\\n                        </div>\\n                        <div class=\\'col-lg-7\\'>\\n                            <p class=\\'text-medium-gray text-small padding-10px-top\\'>VALUES.COM<small>\\xc2\\xae</small> is now PassItOn.com<small>\\xc2\\xae</small></p>\\n                        </div>\\n                    </div>\\n                </div>\\n\\n            </div>\\n        </div>\\n    </div>\\n    <div class=\"container\">\\n        <div class=\"footer-bottom border-top border-color-medium-dark-gray padding-30px-top\">\\n            <div class=\"row\">\\n                <div class=\"col-lg-6 col-md-6 text-small text-md-left text-center\">\\xc2\\xa92000-2021 The Foundation for a Better Life.</div>\\n                <div class=\"col-lg-6 col-md-6 text-small text-md-right text-center\"><a href=\"/privacy-policy\">Privacy Policy</a>&nbsp;&nbsp;&nbsp;|&nbsp;&nbsp;&nbsp;<a href=\"/terms-of-use\">Terms of Use</a></div>\\n            </div>\\n        </div>\\n    </div>\\n</footer>\\n        <a class=\"scroll-top-arrow\" href=\"javascript:void(0);\"><i class=\"ti-arrow-up\"></i></a>\\n        <script src=\"https://cdnjs.cloudflare.com/ajax/libs/jquery/1.12.4/jquery.js\"></script>\\n        <script src=\"https://cdnjs.cloudflare.com/ajax/libs/popper.js/1.14.7/umd/popper.min.js\" integrity=\"sha384-UO2eT0CpHqdSJQ6hJty5KVphtPhzWj9WO1clHTMGa3JDZwrnQq4sF86dIHNDz0W1\" crossorigin=\"anonymous\"></script>\\n        <script src=\"https://stackpath.bootstrapcdn.com/bootstrap/4.3.1/js/bootstrap.min.js\" integrity=\"sha384-JjSmVgyd0p3pXB1rRibZUAYoIIy6OrQ6VrjIEaFf/nJGzIxFDsf4x0xIM+B07jRM\" crossorigin=\"anonymous\"></script>\\n        <script src=\"/assets/pofo-3d0d89a27285d93c09e0f4c1fc85cead.js\"></script>\\n        \\n    </body>\\n</html>\\n'\n"
          ],
          "name": "stdout"
        }
      ]
    },
    {
      "cell_type": "code",
      "metadata": {
        "id": "FkNKtUYUXDHp"
      },
      "source": [
        "html_content = bs4.BeautifulSoup(data.content)"
      ],
      "execution_count": null,
      "outputs": []
    },
    {
      "cell_type": "code",
      "metadata": {
        "colab": {
          "base_uri": "https://localhost:8080/",
          "height": 36
        },
        "id": "lac-SJbxXmi0",
        "outputId": "da14dbf1-162a-453c-e0cc-ea43a07d6462"
      },
      "source": [
        "html_content.title.text"
      ],
      "execution_count": null,
      "outputs": [
        {
          "output_type": "execute_result",
          "data": {
            "application/vnd.google.colaboratory.intrinsic+json": {
              "type": "string"
            },
            "text/plain": [
              "'Inspirational Quotes - Motivational Quotes - Leadership Quotes | Page 2 | PassItOn.com'"
            ]
          },
          "metadata": {
            "tags": []
          },
          "execution_count": 68
        }
      ]
    },
    {
      "cell_type": "code",
      "metadata": {
        "id": "ppsQC6PgXnWk"
      },
      "source": [
        ""
      ],
      "execution_count": null,
      "outputs": []
    },
    {
      "cell_type": "code",
      "metadata": {
        "id": "3UsxLC0iYDRN"
      },
      "source": [
        "# html_content.find_all(\"img\")"
      ],
      "execution_count": null,
      "outputs": []
    },
    {
      "cell_type": "code",
      "metadata": {
        "id": "KOZNshT1YlHf"
      },
      "source": [
        "main_box = html_content.find(\"div\", attrs={\"id\": \"all_quotes\"})"
      ],
      "execution_count": null,
      "outputs": []
    },
    {
      "cell_type": "code",
      "metadata": {
        "id": "iQp18_QQac0Q"
      },
      "source": [
        "all_imgs = main_box.find_all(\"img\")"
      ],
      "execution_count": null,
      "outputs": []
    },
    {
      "cell_type": "code",
      "metadata": {
        "colab": {
          "base_uri": "https://localhost:8080/"
        },
        "id": "YLTdPkf_a8zw",
        "outputId": "f398eaf4-24ac-44dd-86f8-23883808aaa7"
      },
      "source": [
        "type(all_imgs)"
      ],
      "execution_count": null,
      "outputs": [
        {
          "output_type": "execute_result",
          "data": {
            "text/plain": [
              "bs4.element.ResultSet"
            ]
          },
          "metadata": {
            "tags": []
          },
          "execution_count": 72
        }
      ]
    },
    {
      "cell_type": "code",
      "metadata": {
        "colab": {
          "base_uri": "https://localhost:8080/"
        },
        "id": "hCPZwT69bCFw",
        "outputId": "e05bf5c0-18aa-4abd-e431-bac5a9c1c345"
      },
      "source": [
        "all_imgs"
      ],
      "execution_count": null,
      "outputs": [
        {
          "output_type": "execute_result",
          "data": {
            "text/plain": [
              "[<img alt=\"The big challenge is to become all that you have the possibility of becoming. #&lt;Author:0x00007ffb77118ee0&gt;\" class=\"margin-10px-bottom shadow\" height=\"310\" src=\"https://assets.passiton.com/quotes/quote_artwork/8162/medium/20201202_wednesday_quote_alternate.jpg?1606330699\" width=\"310\"/>,\n",
              " <img alt=\"Just remember, when it comes to your life, you are not only the artist but the masterpiece, as well.  #&lt;Author:0x00007ffb771448d8&gt;\" class=\"margin-10px-bottom shadow\" height=\"310\" src=\"https://assets.passiton.com/quotes/quote_artwork/8161/medium/20201201_tuesday_quote.jpg?1606327529\" width=\"310\"/>,\n",
              " <img alt=\"Believe in yourself and all that you are. Know that there is something inside you that is greater than any obstacle. #&lt;Author:0x00007ffb771f98c8&gt;\" class=\"margin-10px-bottom shadow\" height=\"310\" src=\"https://assets.passiton.com/quotes/quote_artwork/6545/medium/20201130_monday_quote.jpg?1606327504\" width=\"310\"/>,\n",
              " <img alt=\"When I started counting my blessings, my whole life turned around. #&lt;Author:0x00007ffb77236a48&gt;\" class=\"margin-10px-bottom shadow\" height=\"310\" src=\"https://assets.passiton.com/quotes/quote_artwork/4614/medium/20201127_friday_quote.jpg?1605830558\" width=\"310\"/>,\n",
              " <img alt=\"Gratitude unlocks the fullness of life. It turns what we have into enough, and more. #&lt;Author:0x00007ffb7726eab0&gt;\" class=\"margin-10px-bottom shadow\" height=\"310\" src=\"https://assets.passiton.com/quotes/quote_artwork/8160/medium/20201126_thursday_quotex.jpg?1605895593\" width=\"310\"/>,\n",
              " <img alt=\"Gratitude is a powerful catalyst for happiness. It’s the spark that lights a fire of joy in your soul.  #&lt;Author:0x00007ffb77299710&gt;\" class=\"margin-10px-bottom shadow\" height=\"310\" src=\"https://assets.passiton.com/quotes/quote_artwork/8159/medium/20201125_wednesday_quote.jpg?1605830510\" width=\"310\"/>,\n",
              " <img alt=\"Thankfulness is the beginning of gratitude. #&lt;Author:0x00007ffb772d5b70&gt;\" class=\"margin-10px-bottom shadow\" height=\"310\" src=\"https://assets.passiton.com/quotes/quote_artwork/3040/medium/20201124_tuesday_quotex.jpg?1605895562\" width=\"310\"/>,\n",
              " <img alt=\"Start each day with a positive thought and a grateful heart. #&lt;Author:0x00007ffb7730e1a0&gt;\" class=\"margin-10px-bottom shadow\" height=\"310\" src=\"https://assets.passiton.com/quotes/quote_artwork/8157/medium/20201123_monday_quote.jpg?1605830150\" width=\"310\"/>,\n",
              " <img alt=\"We are made to persist. That's how we find out who we are. #&lt;Author:0x00007ffb773e9138&gt;\" class=\"margin-10px-bottom shadow\" height=\"310\" src=\"https://assets.passiton.com/quotes/quote_artwork/7656/medium/20201118_wednesday_quote.jpg?1605289394\" width=\"310\"/>,\n",
              " <img alt=\"This I do know beyond any reasonable doubt. Regardless of what you are doing, if you pump long enough, hard enough and enthusiastically enough, sooner or later the effort will bring forth the reward. #&lt;Author:0x00007ffb7740fdd8&gt;\" class=\"margin-10px-bottom shadow\" height=\"310\" src=\"https://assets.passiton.com/quotes/quote_artwork/6248/medium/20201119_thursday_quote.jpg?1605289417\" width=\"310\"/>,\n",
              " <img alt=\"Consider the postage stamp: its usefulness consists in the ability to stick to one thing till it gets there. #&lt;Author:0x00007ffb774397a0&gt;\" class=\"margin-10px-bottom shadow\" height=\"310\" src=\"https://assets.passiton.com/quotes/quote_artwork/5136/medium/20201120_friday_quote.jpg?1605289442\" width=\"310\"/>,\n",
              " <img alt=\"The most essential factor is persistence—the determination never to allow your energy or enthusiasm to be dampened by discouragement. #&lt;Author:0x00007ffb7746ae90&gt;\" class=\"margin-10px-bottom shadow\" height=\"310\" src=\"https://assets.passiton.com/quotes/quote_artwork/8156/medium/20201117_tuesday_quote.jpg?1605289355\" width=\"310\"/>,\n",
              " <img alt=\"Persistence can change failure into extraordinary achievement. #&lt;Author:0x00007ffb7748f768&gt;\" class=\"margin-10px-bottom shadow\" height=\"310\" src=\"https://assets.passiton.com/quotes/quote_artwork/7917/medium/20201116_monday_quote.jpg?1605289330\" width=\"310\"/>,\n",
              " <img alt=\"Hope sees the invisible, feels the intangible, and achieves the impossible. #&lt;Author:0x00007ffb774e9ba0&gt;\" class=\"margin-10px-bottom shadow\" height=\"310\" src=\"https://assets.passiton.com/quotes/quote_artwork/8155/medium/20201113_friday_quote.jpg?1604688356\" width=\"310\"/>,\n",
              " <img alt=\"Where hope grows, miracles blossom. #&lt;Author:0x00007ffb774fcc50&gt;\" class=\"margin-10px-bottom shadow\" height=\"310\" src=\"https://assets.passiton.com/quotes/quote_artwork/4624/medium/20201112_thursday_quote.jpg?1604688335\" width=\"310\"/>,\n",
              " <img alt=\"This new day is too dear, with its hopes and invitations, to waste a moment on the yesterdays. #&lt;Author:0x00007ffb77535b90&gt;\" class=\"margin-10px-bottom shadow\" height=\"310\" src=\"https://assets.passiton.com/quotes/quote_artwork/8154/medium/20201111_wednesday_quote.jpg?1604688314\" width=\"310\"/>,\n",
              " <img alt=\"Our human compassion binds us the one to the other - not in pity or patronizingly, but as human beings who have learnt how to turn our common suffering into hope for the future. #&lt;Author:0x00007ffb7756d310&gt;\" class=\"margin-10px-bottom shadow\" height=\"310\" src=\"https://assets.passiton.com/quotes/quote_artwork/8018/medium/20201109_monday_quote.jpg?1604688266\" width=\"310\"/>,\n",
              " <img alt=\"Hope is a passion for the possible.  #&lt;Author:0x00007ffb77598f60&gt;\" class=\"margin-10px-bottom shadow\" height=\"310\" src=\"https://assets.passiton.com/quotes/quote_artwork/8153/medium/20201110_tuesday_quote.jpg?1604688288\" width=\"310\"/>,\n",
              " <img alt=\"Make living your life with absolute integrity and kindness your first priority. #&lt;Author:0x00007ffb775d0960&gt;\" class=\"margin-10px-bottom shadow\" height=\"310\" src=\"https://assets.passiton.com/quotes/quote_artwork/8151/medium/20201106_friday_quote.jpg?1604081299\" width=\"310\"/>,\n",
              " <img alt=\"Practice civility toward one another. Admire and emulate ethical behavior wherever you find it. Apply a rigid standard of morality to your lives; and if, periodically, you fail as you surely will, ­adjust your lives, not the standards.  #&lt;Author:0x00007ffb77609288&gt;\" class=\"margin-10px-bottom shadow\" height=\"310\" src=\"https://assets.passiton.com/quotes/quote_artwork/7715/medium/20201105_thursday_quote.jpg?1604081275\" width=\"310\"/>,\n",
              " <img alt=\"Don't ever forget that you're a citizen of this world, and there are things you can do to lift the human spirit, things that are easy, things that are free, things that you can do every day: civility, respect, kindness, character. #&lt;Author:0x00007ffb7764b098&gt;\" class=\"margin-10px-bottom shadow\" height=\"310\" src=\"https://assets.passiton.com/quotes/quote_artwork/8152/medium/20201104_wednesday_quote.jpg?1604081252\" width=\"310\"/>,\n",
              " <img alt=\"Civility is the art and act of caring for others. #&lt;Author:0x00007ffb77676ec8&gt;\" class=\"margin-10px-bottom shadow\" height=\"310\" src=\"https://assets.passiton.com/quotes/quote_artwork/7711/medium/20201103_tuesday_quote.jpg?1604081224\" width=\"310\"/>,\n",
              " <img alt=\"Genuine tolerance does not mean ignoring differences as if differences made no difference. Genuine tolerance means engaging differences within a bond of civility and respect. #&lt;Author:0x00007ffb776a8720&gt;\" class=\"margin-10px-bottom shadow\" height=\"310\" src=\"https://assets.passiton.com/quotes/quote_artwork/7712/medium/20201102_monday_quote.jpg?1604081195\" width=\"310\"/>,\n",
              " <img alt=\"You must be the change you wish to see in the world. #&lt;Author:0x00007ffb776e0f80&gt;\" class=\"margin-10px-bottom shadow\" height=\"310\" src=\"https://assets.passiton.com/quotes/quote_artwork/3493/medium/20201030_friday_quote.jpg?1603383782\" width=\"310\"/>,\n",
              " <img alt=\"But where was I to start? The world is so vast, I shall start with the country I know best, my own. But my country is so very large. I had better start with my town. But my town too, is large. I had best start with my street. No: my home. No: my family. Never mind, I shall start with myself. #&lt;Author:0x00007ffb77719088&gt;\" class=\"margin-10px-bottom shadow\" height=\"310\" src=\"https://assets.passiton.com/quotes/quote_artwork/8150/medium/20201029_thursday_quote.jpg?1603383758\" width=\"310\"/>,\n",
              " <img alt=\"Each one of us can make a difference. Together we make a change. #&lt;Author:0x00007ffb7774c640&gt;\" class=\"margin-10px-bottom shadow\" height=\"310\" src=\"https://assets.passiton.com/quotes/quote_artwork/8149/medium/20201026_monday_quote.jpg?1603383688\" width=\"310\"/>,\n",
              " <img alt=\"In this life we cannot always do great things. But we can do small things with great love. #&lt;Author:0x00007ffb777815c0&gt;\" class=\"margin-10px-bottom shadow\" height=\"310\" src=\"https://assets.passiton.com/quotes/quote_artwork/4128/medium/20201028_wednesday_quote.jpg?1603383733\" width=\"310\"/>,\n",
              " <img alt=\"We do not need magic to transform our world. We carry all the power we need inside ourselves already. We have the power to imagine better. #&lt;Author:0x00007ffb777a4278&gt;\" class=\"margin-10px-bottom shadow\" height=\"310\" src=\"https://assets.passiton.com/quotes/quote_artwork/6826/medium/20201027_tuesday_quote.jpg?1603383711\" width=\"310\"/>,\n",
              " <img alt=\"The only place success comes before work is in the dictionary. #&lt;Author:0x00007ffb77819348&gt;\" class=\"margin-10px-bottom shadow\" height=\"310\" src=\"https://assets.passiton.com/quotes/quote_artwork/3752/medium/20201023_friday_quote_update.jpg?1602883670\" width=\"310\"/>,\n",
              " <img alt=\"A dream doesn't become reality through magic; it takes sweat, determination, and hard work. #&lt;Author:0x00007ffb777d0f30&gt;\" class=\"margin-10px-bottom shadow\" height=\"310\" src=\"https://assets.passiton.com/quotes/quote_artwork/7750/medium/20201022_thursday_quote_update.jpg?1602883540\" width=\"310\"/>,\n",
              " <img alt=\"Work hard at work worth doing.  #&lt;Author:0x00007ffb77865108&gt;\" class=\"margin-10px-bottom shadow\" height=\"310\" src=\"https://assets.passiton.com/quotes/quote_artwork/8147/medium/20201021_wednesday_quote.jpg?1602872491\" width=\"310\"/>,\n",
              " <img alt=\"The only limit to the height of your achievements is the reach of your dreams and your willingness to work hard for them. #&lt;Author:0x00007ffb77899ac0&gt;\" class=\"margin-10px-bottom shadow\" height=\"310\" src=\"https://assets.passiton.com/quotes/quote_artwork/8146/medium/20201020_tuesday_quote.jpg?1602872463\" width=\"310\"/>]"
            ]
          },
          "metadata": {
            "tags": []
          },
          "execution_count": 73
        }
      ]
    },
    {
      "cell_type": "code",
      "metadata": {
        "colab": {
          "base_uri": "https://localhost:8080/"
        },
        "id": "Y9ObpPTPbMsI",
        "outputId": "2fa7a9df-2de6-41fb-d079-2c25c37c05a0"
      },
      "source": [
        "all_imgs[0].attrs"
      ],
      "execution_count": null,
      "outputs": [
        {
          "output_type": "execute_result",
          "data": {
            "text/plain": [
              "{'alt': 'The big challenge is to become all that you have the possibility of becoming. #<Author:0x00007ffb77118ee0>',\n",
              " 'class': ['margin-10px-bottom', 'shadow'],\n",
              " 'height': '310',\n",
              " 'src': 'https://assets.passiton.com/quotes/quote_artwork/8162/medium/20201202_wednesday_quote_alternate.jpg?1606330699',\n",
              " 'width': '310'}"
            ]
          },
          "metadata": {
            "tags": []
          },
          "execution_count": 74
        }
      ]
    },
    {
      "cell_type": "code",
      "metadata": {
        "id": "mSvbf40lbZHW"
      },
      "source": [
        "url = all_imgs[0].attrs['src']"
      ],
      "execution_count": null,
      "outputs": []
    },
    {
      "cell_type": "code",
      "metadata": {
        "id": "8IGgv3-0bp1d"
      },
      "source": [
        "res = requests.get(url)"
      ],
      "execution_count": null,
      "outputs": []
    },
    {
      "cell_type": "code",
      "metadata": {
        "id": "vu-MLqLlb4u8"
      },
      "source": [
        "bin_data = res.content"
      ],
      "execution_count": null,
      "outputs": []
    },
    {
      "cell_type": "code",
      "metadata": {
        "id": "2Jo7VEsTb7Yz"
      },
      "source": [
        "with open(\"quotes-new.jpg\", 'wb') as f:\n",
        "    f.write(bin_data)"
      ],
      "execution_count": null,
      "outputs": []
    },
    {
      "cell_type": "code",
      "metadata": {
        "id": "XsIpwaPPcEk2"
      },
      "source": [
        ""
      ],
      "execution_count": null,
      "outputs": []
    },
    {
      "cell_type": "markdown",
      "metadata": {
        "id": "voHKp6fCfW9p"
      },
      "source": [
        "# Saving all the images"
      ]
    },
    {
      "cell_type": "code",
      "metadata": {
        "colab": {
          "base_uri": "https://localhost:8080/"
        },
        "id": "nH4G2AcRcQNK",
        "outputId": "f4ea4512-aae6-492b-9d8e-9979f874899a"
      },
      "source": [
        "for idx,one_img in enumerate(all_imgs, 32):\n",
        "    url = one_img.attrs['src']\n",
        "    \n",
        "    filename = \"images/quotes-\"+str(idx)+\".jpg\"\n",
        "    print(filename)\n",
        "\n",
        "    res = requests.get(url)\n",
        "    bin_data = res.content\n",
        "\n",
        "    with open(filename, 'wb') as f:\n",
        "        f.write(bin_data)"
      ],
      "execution_count": null,
      "outputs": [
        {
          "output_type": "stream",
          "text": [
            "images/quotes-32.jpg\n",
            "images/quotes-33.jpg\n",
            "images/quotes-34.jpg\n",
            "images/quotes-35.jpg\n",
            "images/quotes-36.jpg\n",
            "images/quotes-37.jpg\n",
            "images/quotes-38.jpg\n",
            "images/quotes-39.jpg\n",
            "images/quotes-40.jpg\n",
            "images/quotes-41.jpg\n",
            "images/quotes-42.jpg\n",
            "images/quotes-43.jpg\n",
            "images/quotes-44.jpg\n",
            "images/quotes-45.jpg\n",
            "images/quotes-46.jpg\n",
            "images/quotes-47.jpg\n",
            "images/quotes-48.jpg\n",
            "images/quotes-49.jpg\n",
            "images/quotes-50.jpg\n",
            "images/quotes-51.jpg\n",
            "images/quotes-52.jpg\n",
            "images/quotes-53.jpg\n",
            "images/quotes-54.jpg\n",
            "images/quotes-55.jpg\n",
            "images/quotes-56.jpg\n",
            "images/quotes-57.jpg\n",
            "images/quotes-58.jpg\n",
            "images/quotes-59.jpg\n",
            "images/quotes-60.jpg\n",
            "images/quotes-61.jpg\n",
            "images/quotes-62.jpg\n",
            "images/quotes-63.jpg\n"
          ],
          "name": "stdout"
        }
      ]
    },
    {
      "cell_type": "code",
      "metadata": {
        "id": "1Iu35tllchTN"
      },
      "source": [
        ""
      ],
      "execution_count": null,
      "outputs": []
    },
    {
      "cell_type": "code",
      "metadata": {
        "colab": {
          "base_uri": "https://localhost:8080/"
        },
        "id": "VvdQfPkldFY7",
        "outputId": "939bb7fc-0f26-4ed4-e8e1-e9cda45ce593"
      },
      "source": [
        "l =  [\"apple\", 'mango','banana', 'orange']\n",
        "for idx, ele in enumerate(l, 1):\n",
        "    print(str(idx) + \" - \" + ele)"
      ],
      "execution_count": null,
      "outputs": [
        {
          "output_type": "stream",
          "text": [
            "1 - apple\n",
            "2 - mango\n",
            "3 - banana\n",
            "4 - orange\n"
          ],
          "name": "stdout"
        }
      ]
    },
    {
      "cell_type": "code",
      "metadata": {
        "colab": {
          "base_uri": "https://localhost:8080/"
        },
        "id": "P-Cu6K57dJeG",
        "outputId": "fca9c963-35f2-4536-92b5-0c18865a4f20"
      },
      "source": [
        "!zip -r \"images.zip\"  \"images\""
      ],
      "execution_count": null,
      "outputs": [
        {
          "output_type": "stream",
          "text": [
            "updating: images/ (stored 0%)\n",
            "updating: images/quotes-30.jpg (deflated 7%)\n",
            "updating: images/quotes-1.jpg (deflated 11%)\n",
            "updating: images/quotes-7.jpg (deflated 8%)\n",
            "updating: images/quotes-8.jpg (deflated 8%)\n",
            "updating: images/quotes-24.jpg (deflated 5%)\n",
            "updating: images/quotes-2.jpg (deflated 8%)\n",
            "updating: images/quotes-4.jpg (deflated 7%)\n",
            "updating: images/quotes-20.jpg (deflated 6%)\n",
            "updating: images/quotes-21.jpg (deflated 6%)\n",
            "updating: images/quotes-23.jpg (deflated 6%)\n",
            "updating: images/quotes-22.jpg (deflated 8%)\n",
            "updating: images/quotes-25.jpg (deflated 7%)\n",
            "updating: images/quotes-12.jpg (deflated 8%)\n",
            "updating: images/quotes-29.jpg (deflated 5%)\n",
            "updating: images/quotes-19.jpg (deflated 5%)\n",
            "updating: images/quotes-6.jpg (deflated 7%)\n",
            "updating: images/quotes-17.jpg (deflated 13%)\n",
            "updating: images/quotes-9.jpg (deflated 8%)\n",
            "updating: images/quotes-15.jpg (deflated 7%)\n",
            "updating: images/quotes-0.jpg (deflated 9%)\n",
            "updating: images/quotes-13.jpg (deflated 6%)\n",
            "updating: images/quotes-16.jpg (deflated 6%)\n",
            "updating: images/quotes-11.jpg (deflated 7%)\n",
            "updating: images/quotes-3.jpg (deflated 8%)\n",
            "updating: images/quotes-10.jpg (deflated 7%)\n",
            "updating: images/quotes-26.jpg (deflated 7%)\n",
            "updating: images/quotes-5.jpg (deflated 10%)\n",
            "updating: images/quotes-18.jpg (deflated 7%)\n",
            "updating: images/quotes-31.jpg (deflated 8%)\n",
            "updating: images/quotes-27.jpg (deflated 10%)\n",
            "updating: images/quotes-28.jpg (deflated 10%)\n",
            "updating: images/quotes-14.jpg (deflated 10%)\n",
            "  adding: images/quotes-34.jpg (deflated 6%)\n",
            "  adding: images/quotes-43.jpg (deflated 8%)\n",
            "  adding: images/quotes-55.jpg (deflated 6%)\n",
            "  adding: images/quotes-62.jpg (deflated 7%)\n",
            "  adding: images/quotes-51.jpg (deflated 8%)\n",
            "  adding: images/quotes-41.jpg (deflated 10%)\n",
            "  adding: images/quotes-63.jpg (deflated 7%)\n",
            "  adding: images/quotes-56.jpg (deflated 9%)\n",
            "  adding: images/quotes-60.jpg (deflated 9%)\n",
            "  adding: images/quotes-50.jpg (deflated 9%)\n",
            "  adding: images/quotes-58.jpg (deflated 7%)\n",
            "  adding: images/quotes-59.jpg (deflated 6%)\n",
            "  adding: images/quotes-52.jpg (deflated 6%)\n",
            "  adding: images/quotes-47.jpg (deflated 5%)\n",
            "  adding: images/quotes-39.jpg (deflated 8%)\n",
            "  adding: images/quotes-45.jpg (deflated 6%)\n",
            "  adding: images/quotes-44.jpg (deflated 5%)\n",
            "  adding: images/quotes-53.jpg (deflated 7%)\n",
            "  adding: images/quotes-61.jpg (deflated 5%)\n",
            "  adding: images/quotes-40.jpg (deflated 7%)\n",
            "  adding: images/quotes-42.jpg (deflated 9%)\n",
            "  adding: images/quotes-48.jpg (deflated 8%)\n",
            "  adding: images/quotes-54.jpg (deflated 6%)\n",
            "  adding: images/quotes-35.jpg (deflated 9%)\n",
            "  adding: images/quotes-32.jpg (deflated 6%)\n",
            "  adding: images/quotes-36.jpg (deflated 6%)\n",
            "  adding: images/quotes-49.jpg (deflated 10%)\n",
            "  adding: images/quotes-33.jpg (deflated 6%)\n",
            "  adding: images/quotes-46.jpg (deflated 9%)\n",
            "  adding: images/quotes-37.jpg (deflated 7%)\n",
            "  adding: images/quotes-38.jpg (deflated 6%)\n",
            "  adding: images/quotes-57.jpg (deflated 5%)\n"
          ],
          "name": "stdout"
        }
      ]
    },
    {
      "cell_type": "code",
      "metadata": {
        "id": "kyer8Ol5e6jV"
      },
      "source": [
        ""
      ],
      "execution_count": null,
      "outputs": []
    }
  ]
}